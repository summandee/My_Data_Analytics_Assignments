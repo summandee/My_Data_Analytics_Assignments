{
 "cells": [
  {
   "cell_type": "code",
   "execution_count": 96,
   "metadata": {},
   "outputs": [],
   "source": [
    "import pandas as pd\n",
    "import numpy as np\n",
    "import seaborn as sns\n",
    "import matplotlib.pyplot as plt\n",
    "import warnings\n",
    "warnings.filterwarnings('ignore')"
   ]
  },
  {
   "cell_type": "code",
   "execution_count": 97,
   "metadata": {},
   "outputs": [
    {
     "data": {
      "text/html": [
       "<div>\n",
       "<style scoped>\n",
       "    .dataframe tbody tr th:only-of-type {\n",
       "        vertical-align: middle;\n",
       "    }\n",
       "\n",
       "    .dataframe tbody tr th {\n",
       "        vertical-align: top;\n",
       "    }\n",
       "\n",
       "    .dataframe thead th {\n",
       "        text-align: right;\n",
       "    }\n",
       "</style>\n",
       "<table border=\"1\" class=\"dataframe\">\n",
       "  <thead>\n",
       "    <tr style=\"text-align: right;\">\n",
       "      <th></th>\n",
       "      <th>invoice_no</th>\n",
       "      <th>invoice_date</th>\n",
       "      <th>customer_id</th>\n",
       "      <th>gender</th>\n",
       "      <th>age</th>\n",
       "      <th>category</th>\n",
       "      <th>quantity</th>\n",
       "      <th>selling_price_per_unit</th>\n",
       "      <th>cost_price_per_unit</th>\n",
       "      <th>payment_method</th>\n",
       "      <th>region</th>\n",
       "      <th>state</th>\n",
       "      <th>shopping_mall</th>\n",
       "    </tr>\n",
       "  </thead>\n",
       "  <tbody>\n",
       "    <tr>\n",
       "      <th>0</th>\n",
       "      <td>I138884</td>\n",
       "      <td>10/30/2016 9:58</td>\n",
       "      <td>C241288</td>\n",
       "      <td>Female</td>\n",
       "      <td>28</td>\n",
       "      <td>Clothing</td>\n",
       "      <td>5</td>\n",
       "      <td>1500.40</td>\n",
       "      <td>1425.380</td>\n",
       "      <td>Credit Card</td>\n",
       "      <td>South</td>\n",
       "      <td>Kentucky</td>\n",
       "      <td>Kanyon</td>\n",
       "    </tr>\n",
       "    <tr>\n",
       "      <th>1</th>\n",
       "      <td>I317333</td>\n",
       "      <td>10/30/2016 9:58</td>\n",
       "      <td>C111565</td>\n",
       "      <td>Male</td>\n",
       "      <td>21</td>\n",
       "      <td>Shoes</td>\n",
       "      <td>3</td>\n",
       "      <td>1800.51</td>\n",
       "      <td>1620.459</td>\n",
       "      <td>Debit Card</td>\n",
       "      <td>South</td>\n",
       "      <td>Kentucky</td>\n",
       "      <td>Viaport Outlet</td>\n",
       "    </tr>\n",
       "    <tr>\n",
       "      <th>2</th>\n",
       "      <td>I127801</td>\n",
       "      <td>10/30/2016 9:58</td>\n",
       "      <td>C266599</td>\n",
       "      <td>Male</td>\n",
       "      <td>20</td>\n",
       "      <td>Clothing</td>\n",
       "      <td>1</td>\n",
       "      <td>300.08</td>\n",
       "      <td>295.060</td>\n",
       "      <td>Cash</td>\n",
       "      <td>West</td>\n",
       "      <td>California</td>\n",
       "      <td>Metrocity</td>\n",
       "    </tr>\n",
       "    <tr>\n",
       "      <th>3</th>\n",
       "      <td>I173702</td>\n",
       "      <td>10/30/2016 9:58</td>\n",
       "      <td>C988172</td>\n",
       "      <td>Female</td>\n",
       "      <td>66</td>\n",
       "      <td>Shoes</td>\n",
       "      <td>5</td>\n",
       "      <td>3000.85</td>\n",
       "      <td>2900.765</td>\n",
       "      <td>Credit Card</td>\n",
       "      <td>South</td>\n",
       "      <td>Florida</td>\n",
       "      <td>Metropol AVM</td>\n",
       "    </tr>\n",
       "    <tr>\n",
       "      <th>4</th>\n",
       "      <td>I337046</td>\n",
       "      <td>10/30/2016 9:59</td>\n",
       "      <td>C189076</td>\n",
       "      <td>Female</td>\n",
       "      <td>53</td>\n",
       "      <td>Books</td>\n",
       "      <td>4</td>\n",
       "      <td>60.60</td>\n",
       "      <td>45.450</td>\n",
       "      <td>Cash</td>\n",
       "      <td>South</td>\n",
       "      <td>Florida</td>\n",
       "      <td>Kanyon</td>\n",
       "    </tr>\n",
       "  </tbody>\n",
       "</table>\n",
       "</div>"
      ],
      "text/plain": [
       "  invoice_no     invoice_date customer_id  gender  age  category  quantity  \\\n",
       "0    I138884  10/30/2016 9:58     C241288  Female   28  Clothing         5   \n",
       "1    I317333  10/30/2016 9:58     C111565    Male   21     Shoes         3   \n",
       "2    I127801  10/30/2016 9:58     C266599    Male   20  Clothing         1   \n",
       "3    I173702  10/30/2016 9:58     C988172  Female   66     Shoes         5   \n",
       "4    I337046  10/30/2016 9:59     C189076  Female   53     Books         4   \n",
       "\n",
       "   selling_price_per_unit  cost_price_per_unit payment_method region  \\\n",
       "0                 1500.40             1425.380    Credit Card  South   \n",
       "1                 1800.51             1620.459     Debit Card  South   \n",
       "2                  300.08              295.060           Cash   West   \n",
       "3                 3000.85             2900.765    Credit Card  South   \n",
       "4                   60.60               45.450           Cash  South   \n",
       "\n",
       "        state   shopping_mall  \n",
       "0    Kentucky          Kanyon  \n",
       "1    Kentucky  Viaport Outlet  \n",
       "2  California       Metrocity  \n",
       "3     Florida    Metropol AVM  \n",
       "4     Florida          Kanyon  "
      ]
     },
     "execution_count": 97,
     "metadata": {},
     "output_type": "execute_result"
    }
   ],
   "source": [
    "df = pd.read_csv(\"Different_stores_dataset.csv\")\n",
    "# To display top 5 rows\n",
    "df.head(5)"
   ]
  },
  {
   "cell_type": "code",
   "execution_count": 98,
   "metadata": {},
   "outputs": [
    {
     "name": "stdout",
     "output_type": "stream",
     "text": [
      "<class 'pandas.core.frame.DataFrame'>\n",
      "RangeIndex: 99457 entries, 0 to 99456\n",
      "Data columns (total 13 columns):\n",
      " #   Column                  Non-Null Count  Dtype  \n",
      "---  ------                  --------------  -----  \n",
      " 0   invoice_no              99457 non-null  object \n",
      " 1   invoice_date            99457 non-null  object \n",
      " 2   customer_id             99457 non-null  object \n",
      " 3   gender                  99457 non-null  object \n",
      " 4   age                     99457 non-null  int64  \n",
      " 5   category                99457 non-null  object \n",
      " 6   quantity                99457 non-null  int64  \n",
      " 7   selling_price_per_unit  99457 non-null  float64\n",
      " 8   cost_price_per_unit     99457 non-null  float64\n",
      " 9   payment_method          99457 non-null  object \n",
      " 10  region                  99457 non-null  object \n",
      " 11  state                   99457 non-null  object \n",
      " 12  shopping_mall           99457 non-null  object \n",
      "dtypes: float64(2), int64(2), object(9)\n",
      "memory usage: 9.9+ MB\n"
     ]
    }
   ],
   "source": [
    "df.info()"
   ]
  },
  {
   "cell_type": "markdown",
   "metadata": {},
   "source": [
    "### 1. Check missing values and duplicate records"
   ]
  },
  {
   "cell_type": "code",
   "execution_count": 99,
   "metadata": {},
   "outputs": [
    {
     "data": {
      "text/plain": [
       "invoice_no                0\n",
       "invoice_date              0\n",
       "customer_id               0\n",
       "gender                    0\n",
       "age                       0\n",
       "category                  0\n",
       "quantity                  0\n",
       "selling_price_per_unit    0\n",
       "cost_price_per_unit       0\n",
       "payment_method            0\n",
       "region                    0\n",
       "state                     0\n",
       "shopping_mall             0\n",
       "dtype: int64"
      ]
     },
     "execution_count": 99,
     "metadata": {},
     "output_type": "execute_result"
    }
   ],
   "source": [
    "# Check for missing values\n",
    "missing_values = df.isnull().sum()\n",
    "missing_values"
   ]
  },
  {
   "cell_type": "code",
   "execution_count": 100,
   "metadata": {},
   "outputs": [
    {
     "name": "stdout",
     "output_type": "stream",
     "text": [
      "Number of duplicate records: 0\n"
     ]
    }
   ],
   "source": [
    "# Check for duplicate records\n",
    "duplicates = df.duplicated()\n",
    "print(f\"Number of duplicate records: {duplicates.sum()}\")"
   ]
  },
  {
   "cell_type": "markdown",
   "metadata": {},
   "source": [
    "### 2. Add column name 'Total Sales'"
   ]
  },
  {
   "cell_type": "code",
   "execution_count": 101,
   "metadata": {},
   "outputs": [
    {
     "name": "stdout",
     "output_type": "stream",
     "text": [
      "Initial DataFrame:\n",
      "  invoice_no     invoice_date customer_id  gender  age  category  quantity  \\\n",
      "0    I138884  10/30/2016 9:58     C241288  Female   28  Clothing         5   \n",
      "1    I317333  10/30/2016 9:58     C111565    Male   21     Shoes         3   \n",
      "2    I127801  10/30/2016 9:58     C266599    Male   20  Clothing         1   \n",
      "3    I173702  10/30/2016 9:58     C988172  Female   66     Shoes         5   \n",
      "4    I337046  10/30/2016 9:59     C189076  Female   53     Books         4   \n",
      "\n",
      "   selling_price_per_unit  cost_price_per_unit payment_method region  \\\n",
      "0                 1500.40             1425.380    Credit Card  South   \n",
      "1                 1800.51             1620.459     Debit Card  South   \n",
      "2                  300.08              295.060           Cash   West   \n",
      "3                 3000.85             2900.765    Credit Card  South   \n",
      "4                   60.60               45.450           Cash  South   \n",
      "\n",
      "        state   shopping_mall  \n",
      "0    Kentucky          Kanyon  \n",
      "1    Kentucky  Viaport Outlet  \n",
      "2  California       Metrocity  \n",
      "3     Florida    Metropol AVM  \n",
      "4     Florida          Kanyon  \n"
     ]
    }
   ],
   "source": [
    "# Check the initial DataFrame\n",
    "print(\"Initial DataFrame:\")\n",
    "print(df.head())"
   ]
  },
  {
   "cell_type": "code",
   "execution_count": 102,
   "metadata": {},
   "outputs": [
    {
     "name": "stdout",
     "output_type": "stream",
     "text": [
      "  invoice_no     invoice_date customer_id  gender  age  category  quantity  \\\n",
      "0    I138884  10/30/2016 9:58     C241288  Female   28  Clothing         5   \n",
      "1    I317333  10/30/2016 9:58     C111565    Male   21     Shoes         3   \n",
      "2    I127801  10/30/2016 9:58     C266599    Male   20  Clothing         1   \n",
      "3    I173702  10/30/2016 9:58     C988172  Female   66     Shoes         5   \n",
      "4    I337046  10/30/2016 9:59     C189076  Female   53     Books         4   \n",
      "\n",
      "   selling_price_per_unit  cost_price_per_unit payment_method region  \\\n",
      "0                 1500.40             1425.380    Credit Card  South   \n",
      "1                 1800.51             1620.459     Debit Card  South   \n",
      "2                  300.08              295.060           Cash   West   \n",
      "3                 3000.85             2900.765    Credit Card  South   \n",
      "4                   60.60               45.450           Cash  South   \n",
      "\n",
      "        state   shopping_mall  Total Sales  \n",
      "0    Kentucky          Kanyon            0  \n",
      "1    Kentucky  Viaport Outlet            0  \n",
      "2  California       Metrocity            0  \n",
      "3     Florida    Metropol AVM            0  \n",
      "4     Florida          Kanyon            0  \n"
     ]
    }
   ],
   "source": [
    "# Add a new column 'Total Sales'\n",
    "df['Total Sales'] = 0 \n",
    "# df.head(10)\n",
    "print(df.head())"
   ]
  },
  {
   "cell_type": "markdown",
   "metadata": {},
   "source": [
    "### 3. How many customers have age more than 60?"
   ]
  },
  {
   "cell_type": "code",
   "execution_count": 103,
   "metadata": {},
   "outputs": [
    {
     "data": {
      "text/html": [
       "<div>\n",
       "<style scoped>\n",
       "    .dataframe tbody tr th:only-of-type {\n",
       "        vertical-align: middle;\n",
       "    }\n",
       "\n",
       "    .dataframe tbody tr th {\n",
       "        vertical-align: top;\n",
       "    }\n",
       "\n",
       "    .dataframe thead th {\n",
       "        text-align: right;\n",
       "    }\n",
       "</style>\n",
       "<table border=\"1\" class=\"dataframe\">\n",
       "  <thead>\n",
       "    <tr style=\"text-align: right;\">\n",
       "      <th></th>\n",
       "      <th>invoice_no</th>\n",
       "      <th>invoice_date</th>\n",
       "      <th>customer_id</th>\n",
       "      <th>gender</th>\n",
       "      <th>age</th>\n",
       "      <th>category</th>\n",
       "      <th>quantity</th>\n",
       "      <th>selling_price_per_unit</th>\n",
       "      <th>cost_price_per_unit</th>\n",
       "      <th>payment_method</th>\n",
       "      <th>region</th>\n",
       "      <th>state</th>\n",
       "      <th>shopping_mall</th>\n",
       "      <th>Total Sales</th>\n",
       "    </tr>\n",
       "  </thead>\n",
       "  <tbody>\n",
       "    <tr>\n",
       "      <th>3</th>\n",
       "      <td>I173702</td>\n",
       "      <td>10/30/2016 9:58</td>\n",
       "      <td>C988172</td>\n",
       "      <td>Female</td>\n",
       "      <td>66</td>\n",
       "      <td>Shoes</td>\n",
       "      <td>5</td>\n",
       "      <td>3000.85</td>\n",
       "      <td>2900.765</td>\n",
       "      <td>Credit Card</td>\n",
       "      <td>South</td>\n",
       "      <td>Florida</td>\n",
       "      <td>Metropol AVM</td>\n",
       "      <td>0</td>\n",
       "    </tr>\n",
       "    <tr>\n",
       "      <th>8</th>\n",
       "      <td>I293455</td>\n",
       "      <td>10/30/2016 10:00</td>\n",
       "      <td>C159642</td>\n",
       "      <td>Male</td>\n",
       "      <td>69</td>\n",
       "      <td>Clothing</td>\n",
       "      <td>3</td>\n",
       "      <td>900.24</td>\n",
       "      <td>675.180</td>\n",
       "      <td>Credit Card</td>\n",
       "      <td>West</td>\n",
       "      <td>California</td>\n",
       "      <td>Metrocity</td>\n",
       "      <td>0</td>\n",
       "    </tr>\n",
       "    <tr>\n",
       "      <th>12</th>\n",
       "      <td>I640508</td>\n",
       "      <td>10/30/2016 10:00</td>\n",
       "      <td>C225330</td>\n",
       "      <td>Female</td>\n",
       "      <td>67</td>\n",
       "      <td>Toys</td>\n",
       "      <td>4</td>\n",
       "      <td>143.36</td>\n",
       "      <td>144.688</td>\n",
       "      <td>Debit Card</td>\n",
       "      <td>South</td>\n",
       "      <td>North Carolina</td>\n",
       "      <td>Metrocity</td>\n",
       "      <td>0</td>\n",
       "    </tr>\n",
       "    <tr>\n",
       "      <th>14</th>\n",
       "      <td>I336189</td>\n",
       "      <td>10/30/2016 10:01</td>\n",
       "      <td>C555402</td>\n",
       "      <td>Female</td>\n",
       "      <td>67</td>\n",
       "      <td>Clothing</td>\n",
       "      <td>2</td>\n",
       "      <td>600.16</td>\n",
       "      <td>580.720</td>\n",
       "      <td>Credit Card</td>\n",
       "      <td>Central</td>\n",
       "      <td>Texas</td>\n",
       "      <td>Kanyon</td>\n",
       "      <td>0</td>\n",
       "    </tr>\n",
       "    <tr>\n",
       "      <th>16</th>\n",
       "      <td>I294687</td>\n",
       "      <td>10/30/2016 10:01</td>\n",
       "      <td>C300786</td>\n",
       "      <td>Male</td>\n",
       "      <td>65</td>\n",
       "      <td>Books</td>\n",
       "      <td>2</td>\n",
       "      <td>30.30</td>\n",
       "      <td>27.210</td>\n",
       "      <td>Debit Card</td>\n",
       "      <td>Central</td>\n",
       "      <td>Iowa</td>\n",
       "      <td>Metrocity</td>\n",
       "      <td>0</td>\n",
       "    </tr>\n",
       "    <tr>\n",
       "      <th>...</th>\n",
       "      <td>...</td>\n",
       "      <td>...</td>\n",
       "      <td>...</td>\n",
       "      <td>...</td>\n",
       "      <td>...</td>\n",
       "      <td>...</td>\n",
       "      <td>...</td>\n",
       "      <td>...</td>\n",
       "      <td>...</td>\n",
       "      <td>...</td>\n",
       "      <td>...</td>\n",
       "      <td>...</td>\n",
       "      <td>...</td>\n",
       "      <td>...</td>\n",
       "    </tr>\n",
       "    <tr>\n",
       "      <th>99427</th>\n",
       "      <td>I934204</td>\n",
       "      <td>11/15/2016 12:37</td>\n",
       "      <td>C188412</td>\n",
       "      <td>Female</td>\n",
       "      <td>62</td>\n",
       "      <td>Cosmetics</td>\n",
       "      <td>4</td>\n",
       "      <td>162.64</td>\n",
       "      <td>130.112</td>\n",
       "      <td>Cash</td>\n",
       "      <td>West</td>\n",
       "      <td>California</td>\n",
       "      <td>Viaport Outlet</td>\n",
       "      <td>0</td>\n",
       "    </tr>\n",
       "    <tr>\n",
       "      <th>99435</th>\n",
       "      <td>I141871</td>\n",
       "      <td>11/15/2016 12:39</td>\n",
       "      <td>C298790</td>\n",
       "      <td>Female</td>\n",
       "      <td>62</td>\n",
       "      <td>Clothing</td>\n",
       "      <td>3</td>\n",
       "      <td>900.24</td>\n",
       "      <td>675.180</td>\n",
       "      <td>Cash</td>\n",
       "      <td>East</td>\n",
       "      <td>Ohio</td>\n",
       "      <td>Zorlu Center</td>\n",
       "      <td>0</td>\n",
       "    </tr>\n",
       "    <tr>\n",
       "      <th>99448</th>\n",
       "      <td>I332105</td>\n",
       "      <td>11/15/2016 12:42</td>\n",
       "      <td>C231387</td>\n",
       "      <td>Female</td>\n",
       "      <td>65</td>\n",
       "      <td>Shoes</td>\n",
       "      <td>4</td>\n",
       "      <td>2400.68</td>\n",
       "      <td>2280.646</td>\n",
       "      <td>Credit Card</td>\n",
       "      <td>East</td>\n",
       "      <td>Pennsylvania</td>\n",
       "      <td>Metropol AVM</td>\n",
       "      <td>0</td>\n",
       "    </tr>\n",
       "    <tr>\n",
       "      <th>99449</th>\n",
       "      <td>I134399</td>\n",
       "      <td>11/15/2016 12:42</td>\n",
       "      <td>C953724</td>\n",
       "      <td>Male</td>\n",
       "      <td>65</td>\n",
       "      <td>Clothing</td>\n",
       "      <td>1</td>\n",
       "      <td>300.08</td>\n",
       "      <td>225.060</td>\n",
       "      <td>Cash</td>\n",
       "      <td>West</td>\n",
       "      <td>California</td>\n",
       "      <td>Kanyon</td>\n",
       "      <td>0</td>\n",
       "    </tr>\n",
       "    <tr>\n",
       "      <th>99454</th>\n",
       "      <td>I824010</td>\n",
       "      <td>11/15/2016 12:44</td>\n",
       "      <td>C103292</td>\n",
       "      <td>Male</td>\n",
       "      <td>63</td>\n",
       "      <td>Food &amp; Beverage</td>\n",
       "      <td>2</td>\n",
       "      <td>10.46</td>\n",
       "      <td>7.322</td>\n",
       "      <td>Debit Card</td>\n",
       "      <td>South</td>\n",
       "      <td>Alabama</td>\n",
       "      <td>Metrocity</td>\n",
       "      <td>0</td>\n",
       "    </tr>\n",
       "  </tbody>\n",
       "</table>\n",
       "<p>17169 rows × 14 columns</p>\n",
       "</div>"
      ],
      "text/plain": [
       "      invoice_no      invoice_date customer_id  gender  age         category  \\\n",
       "3        I173702   10/30/2016 9:58     C988172  Female   66            Shoes   \n",
       "8        I293455  10/30/2016 10:00     C159642    Male   69         Clothing   \n",
       "12       I640508  10/30/2016 10:00     C225330  Female   67             Toys   \n",
       "14       I336189  10/30/2016 10:01     C555402  Female   67         Clothing   \n",
       "16       I294687  10/30/2016 10:01     C300786    Male   65            Books   \n",
       "...          ...               ...         ...     ...  ...              ...   \n",
       "99427    I934204  11/15/2016 12:37     C188412  Female   62        Cosmetics   \n",
       "99435    I141871  11/15/2016 12:39     C298790  Female   62         Clothing   \n",
       "99448    I332105  11/15/2016 12:42     C231387  Female   65            Shoes   \n",
       "99449    I134399  11/15/2016 12:42     C953724    Male   65         Clothing   \n",
       "99454    I824010  11/15/2016 12:44     C103292    Male   63  Food & Beverage   \n",
       "\n",
       "       quantity  selling_price_per_unit  cost_price_per_unit payment_method  \\\n",
       "3             5                 3000.85             2900.765    Credit Card   \n",
       "8             3                  900.24              675.180    Credit Card   \n",
       "12            4                  143.36              144.688     Debit Card   \n",
       "14            2                  600.16              580.720    Credit Card   \n",
       "16            2                   30.30               27.210     Debit Card   \n",
       "...         ...                     ...                  ...            ...   \n",
       "99427         4                  162.64              130.112           Cash   \n",
       "99435         3                  900.24              675.180           Cash   \n",
       "99448         4                 2400.68             2280.646    Credit Card   \n",
       "99449         1                  300.08              225.060           Cash   \n",
       "99454         2                   10.46                7.322     Debit Card   \n",
       "\n",
       "        region           state   shopping_mall  Total Sales  \n",
       "3        South         Florida    Metropol AVM            0  \n",
       "8         West      California       Metrocity            0  \n",
       "12       South  North Carolina       Metrocity            0  \n",
       "14     Central           Texas          Kanyon            0  \n",
       "16     Central            Iowa       Metrocity            0  \n",
       "...        ...             ...             ...          ...  \n",
       "99427     West      California  Viaport Outlet            0  \n",
       "99435     East            Ohio    Zorlu Center            0  \n",
       "99448     East    Pennsylvania    Metropol AVM            0  \n",
       "99449     West      California          Kanyon            0  \n",
       "99454    South         Alabama       Metrocity            0  \n",
       "\n",
       "[17169 rows x 14 columns]"
      ]
     },
     "execution_count": 103,
     "metadata": {},
     "output_type": "execute_result"
    }
   ],
   "source": [
    "# Count customers older than 60\n",
    "customers_over_60 = df[df['age'] > 60]\n",
    "# print(customers_over_60)\n",
    "customers_over_60"
   ]
  },
  {
   "cell_type": "code",
   "execution_count": 104,
   "metadata": {},
   "outputs": [
    {
     "data": {
      "text/plain": [
       "17169"
      ]
     },
     "execution_count": 104,
     "metadata": {},
     "output_type": "execute_result"
    }
   ],
   "source": [
    "# Count customers older than 60 :\n",
    "count_over_60 = customers_over_60.shape[0]\n",
    "count_over_60"
   ]
  },
  {
   "cell_type": "markdown",
   "metadata": {},
   "source": [
    "### 4. How many unique customer_id entries are there? Do any customers make multiple purchases?"
   ]
  },
  {
   "cell_type": "code",
   "execution_count": 105,
   "metadata": {},
   "outputs": [
    {
     "data": {
      "text/plain": [
       "99457"
      ]
     },
     "execution_count": 105,
     "metadata": {},
     "output_type": "execute_result"
    }
   ],
   "source": [
    "# Count unique customer_id entries\n",
    "unique_customers = df['customer_id'].nunique() \n",
    "unique_customers "
   ]
  },
  {
   "cell_type": "code",
   "execution_count": 106,
   "metadata": {},
   "outputs": [
    {
     "data": {
      "text/html": [
       "<div>\n",
       "<style scoped>\n",
       "    .dataframe tbody tr th:only-of-type {\n",
       "        vertical-align: middle;\n",
       "    }\n",
       "\n",
       "    .dataframe tbody tr th {\n",
       "        vertical-align: top;\n",
       "    }\n",
       "\n",
       "    .dataframe thead th {\n",
       "        text-align: right;\n",
       "    }\n",
       "</style>\n",
       "<table border=\"1\" class=\"dataframe\">\n",
       "  <thead>\n",
       "    <tr style=\"text-align: right;\">\n",
       "      <th></th>\n",
       "      <th>invoice_no</th>\n",
       "      <th>invoice_date</th>\n",
       "      <th>customer_id</th>\n",
       "      <th>gender</th>\n",
       "      <th>age</th>\n",
       "      <th>category</th>\n",
       "      <th>quantity</th>\n",
       "      <th>selling_price_per_unit</th>\n",
       "      <th>cost_price_per_unit</th>\n",
       "      <th>payment_method</th>\n",
       "      <th>region</th>\n",
       "      <th>state</th>\n",
       "      <th>shopping_mall</th>\n",
       "      <th>Total Sales</th>\n",
       "    </tr>\n",
       "  </thead>\n",
       "  <tbody>\n",
       "  </tbody>\n",
       "</table>\n",
       "</div>"
      ],
      "text/plain": [
       "Empty DataFrame\n",
       "Columns: [invoice_no, invoice_date, customer_id, gender, age, category, quantity, selling_price_per_unit, cost_price_per_unit, payment_method, region, state, shopping_mall, Total Sales]\n",
       "Index: []"
      ]
     },
     "execution_count": 106,
     "metadata": {},
     "output_type": "execute_result"
    }
   ],
   "source": [
    "# Check for customers with multiple purchases\n",
    "multiple_purchases = df.groupby('customer_id').filter(lambda x: len(x) > 1)\n",
    "multiple_purchases"
   ]
  },
  {
   "cell_type": "code",
   "execution_count": 107,
   "metadata": {},
   "outputs": [
    {
     "data": {
      "text/plain": [
       "0"
      ]
     },
     "execution_count": 107,
     "metadata": {},
     "output_type": "execute_result"
    }
   ],
   "source": [
    "# Count the number of customers with multiple purchases\n",
    "customers_with_multiple_purchases = multiple_purchases['customer_id'].nunique()\n",
    "customers_with_multiple_purchases"
   ]
  },
  {
   "cell_type": "markdown",
   "metadata": {},
   "source": [
    "### 5. Are there more male or female customers, Show in Pie Chart?"
   ]
  },
  {
   "cell_type": "code",
   "execution_count": 108,
   "metadata": {},
   "outputs": [
    {
     "data": {
      "text/plain": [
       "gender\n",
       "Female    59482\n",
       "Male      39975\n",
       "Name: count, dtype: int64"
      ]
     },
     "execution_count": 108,
     "metadata": {},
     "output_type": "execute_result"
    }
   ],
   "source": [
    "# Count the number of male and female customers\n",
    "gender_counts = df['gender'].value_counts() \n",
    "gender_counts"
   ]
  },
  {
   "cell_type": "code",
   "execution_count": 109,
   "metadata": {},
   "outputs": [
    {
     "data": {
      "image/png": "[encoded data removed]",
      "text/plain": [
       "<Figure size 800x600 with 1 Axes>"
      ]
     },
     "metadata": {},
     "output_type": "display_data"
    }
   ],
   "source": [
    "# Create a pie chart\n",
    "plt.figure(figsize=(8, 6))\n",
    "plt.pie(gender_counts, labels=gender_counts.index, autopct='%1.1f%%', startangle=160)\n",
    "plt.title('Gender Distribution of Customers')\n",
    "plt.axis('equal')  # Equal aspect ratio ensures that pie is drawn as a circle.\n",
    "\n",
    "# Show the pie chart\n",
    "plt.show()"
   ]
  },
  {
   "cell_type": "markdown",
   "metadata": {},
   "source": [
    "### 6. Which category is least popular among customers?"
   ]
  },
  {
   "cell_type": "code",
   "execution_count": 110,
   "metadata": {},
   "outputs": [
    {
     "data": {
      "text/plain": [
       "category\n",
       "Clothing           34487\n",
       "Cosmetics          15097\n",
       "Food & Beverage    14776\n",
       "Toys               10087\n",
       "Shoes              10034\n",
       "Souvenir            4999\n",
       "Technology          4996\n",
       "Books               4981\n",
       "Name: count, dtype: int64"
      ]
     },
     "execution_count": 110,
     "metadata": {},
     "output_type": "execute_result"
    }
   ],
   "source": [
    "# Count the number of entries per category\n",
    "category_counts = df['category'].value_counts()\n",
    "category_counts"
   ]
  },
  {
   "cell_type": "code",
   "execution_count": 111,
   "metadata": {},
   "outputs": [
    {
     "data": {
      "text/plain": [
       "4981"
      ]
     },
     "execution_count": 111,
     "metadata": {},
     "output_type": "execute_result"
    }
   ],
   "source": [
    "# Identify the least popular category\n",
    "least_popular_category = category_counts.idxmin()\n",
    "least_popular_count = category_counts.min()\n",
    "least_popular_count"
   ]
  },
  {
   "cell_type": "markdown",
   "metadata": {},
   "source": [
    "### 7. Which category has the highest sales volume?"
   ]
  },
  {
   "cell_type": "code",
   "execution_count": 112,
   "metadata": {},
   "outputs": [
    {
     "data": {
      "text/plain": [
       "category\n",
       "Books               14989\n",
       "Clothing           103598\n",
       "Cosmetics           45501\n",
       "Food & Beverage     44281\n",
       "Shoes               30217\n",
       "Souvenir            14871\n",
       "Technology          15033\n",
       "Toys                30321\n",
       "Name: quantity, dtype: int64"
      ]
     },
     "execution_count": 112,
     "metadata": {},
     "output_type": "execute_result"
    }
   ],
   "source": [
    "# Group by category and sum the sales\n",
    "sales_volume_by_category = df.groupby('category')['quantity'].sum()\n",
    "sales_volume_by_category"
   ]
  },
  {
   "cell_type": "code",
   "execution_count": 113,
   "metadata": {},
   "outputs": [
    {
     "name": "stdout",
     "output_type": "stream",
     "text": [
      "The category with the highest sales volume is: 'Clothing' with a total sales volume of 103598.\n"
     ]
    }
   ],
   "source": [
    "# Identify the category with the highest sales volume\n",
    "highest_sales_category = sales_volume_by_category.idxmax()\n",
    "highest_sales_volume = sales_volume_by_category.max()\n",
    "highest_sales_volume\n",
    "# Output the results\n",
    "print(f\"The category with the highest sales volume is: '{highest_sales_category}' with a total sales volume of {highest_sales_volume}.\")"
   ]
  },
  {
   "cell_type": "code",
   "execution_count": 114,
   "metadata": {},
   "outputs": [
    {
     "name": "stdout",
     "output_type": "stream",
     "text": [
      "  invoice_no     invoice_date customer_id  gender  age  category  quantity  \\\n",
      "0    I138884  10/30/2016 9:58     C241288  Female   28  Clothing         5   \n",
      "1    I317333  10/30/2016 9:58     C111565    Male   21     Shoes         3   \n",
      "2    I127801  10/30/2016 9:58     C266599    Male   20  Clothing         1   \n",
      "3    I173702  10/30/2016 9:58     C988172  Female   66     Shoes         5   \n",
      "4    I337046  10/30/2016 9:59     C189076  Female   53     Books         4   \n",
      "\n",
      "   selling_price_per_unit  cost_price_per_unit payment_method region  \\\n",
      "0                 1500.40             1425.380    Credit Card  South   \n",
      "1                 1800.51             1620.459     Debit Card  South   \n",
      "2                  300.08              295.060           Cash   West   \n",
      "3                 3000.85             2900.765    Credit Card  South   \n",
      "4                   60.60               45.450           Cash  South   \n",
      "\n",
      "        state   shopping_mall  Total Sales  \n",
      "0    Kentucky          Kanyon            0  \n",
      "1    Kentucky  Viaport Outlet            0  \n",
      "2  California       Metrocity            0  \n",
      "3     Florida    Metropol AVM            0  \n",
      "4     Florida          Kanyon            0  \n"
     ]
    }
   ],
   "source": [
    "print(df.head())"
   ]
  },
  {
   "cell_type": "markdown",
   "metadata": {},
   "source": [
    "### 8. Add column name 'Total Profit'\n",
    "\n",
    "Total Profit=Total Sales−Total Costs"
   ]
  },
  {
   "cell_type": "code",
   "execution_count": 115,
   "metadata": {},
   "outputs": [],
   "source": [
    "# Calculate Total Profit\n",
    "df['Total Sales'] = df['selling_price_per_unit'] - df['cost_price_per_unit']  "
   ]
  },
  {
   "cell_type": "code",
   "execution_count": 116,
   "metadata": {},
   "outputs": [
    {
     "name": "stdout",
     "output_type": "stream",
     "text": [
      "  invoice_no     invoice_date customer_id  gender  age  category  quantity  \\\n",
      "0    I138884  10/30/2016 9:58     C241288  Female   28  Clothing         5   \n",
      "1    I317333  10/30/2016 9:58     C111565    Male   21     Shoes         3   \n",
      "2    I127801  10/30/2016 9:58     C266599    Male   20  Clothing         1   \n",
      "3    I173702  10/30/2016 9:58     C988172  Female   66     Shoes         5   \n",
      "4    I337046  10/30/2016 9:59     C189076  Female   53     Books         4   \n",
      "\n",
      "   selling_price_per_unit  cost_price_per_unit payment_method region  \\\n",
      "0                 1500.40             1425.380    Credit Card  South   \n",
      "1                 1800.51             1620.459     Debit Card  South   \n",
      "2                  300.08              295.060           Cash   West   \n",
      "3                 3000.85             2900.765    Credit Card  South   \n",
      "4                   60.60               45.450           Cash  South   \n",
      "\n",
      "        state   shopping_mall  Total Sales  \n",
      "0    Kentucky          Kanyon       75.020  \n",
      "1    Kentucky  Viaport Outlet      180.051  \n",
      "2  California       Metrocity        5.020  \n",
      "3     Florida    Metropol AVM      100.085  \n",
      "4     Florida          Kanyon       15.150  \n"
     ]
    }
   ],
   "source": [
    "print(df.head())"
   ]
  },
  {
   "cell_type": "code",
   "execution_count": 117,
   "metadata": {},
   "outputs": [],
   "source": [
    "# Save the updated DataFrame back to the CSV\n",
    "df.to_csv('Updatedata_sales.csv', index=False)"
   ]
  },
  {
   "cell_type": "markdown",
   "metadata": {},
   "source": [
    "# Save Udated Data Sales in df1"
   ]
  },
  {
   "cell_type": "code",
   "execution_count": 118,
   "metadata": {},
   "outputs": [
    {
     "data": {
      "text/html": [
       "<div>\n",
       "<style scoped>\n",
       "    .dataframe tbody tr th:only-of-type {\n",
       "        vertical-align: middle;\n",
       "    }\n",
       "\n",
       "    .dataframe tbody tr th {\n",
       "        vertical-align: top;\n",
       "    }\n",
       "\n",
       "    .dataframe thead th {\n",
       "        text-align: right;\n",
       "    }\n",
       "</style>\n",
       "<table border=\"1\" class=\"dataframe\">\n",
       "  <thead>\n",
       "    <tr style=\"text-align: right;\">\n",
       "      <th></th>\n",
       "      <th>invoice_no</th>\n",
       "      <th>invoice_date</th>\n",
       "      <th>customer_id</th>\n",
       "      <th>gender</th>\n",
       "      <th>age</th>\n",
       "      <th>category</th>\n",
       "      <th>quantity</th>\n",
       "      <th>selling_price_per_unit</th>\n",
       "      <th>cost_price_per_unit</th>\n",
       "      <th>payment_method</th>\n",
       "      <th>region</th>\n",
       "      <th>state</th>\n",
       "      <th>shopping_mall</th>\n",
       "      <th>Total Sales</th>\n",
       "    </tr>\n",
       "  </thead>\n",
       "  <tbody>\n",
       "    <tr>\n",
       "      <th>0</th>\n",
       "      <td>I138884</td>\n",
       "      <td>10/30/2016 9:58</td>\n",
       "      <td>C241288</td>\n",
       "      <td>Female</td>\n",
       "      <td>28</td>\n",
       "      <td>Clothing</td>\n",
       "      <td>5</td>\n",
       "      <td>1500.40</td>\n",
       "      <td>1425.3800</td>\n",
       "      <td>Credit Card</td>\n",
       "      <td>South</td>\n",
       "      <td>Kentucky</td>\n",
       "      <td>Kanyon</td>\n",
       "      <td>75.0200</td>\n",
       "    </tr>\n",
       "    <tr>\n",
       "      <th>1</th>\n",
       "      <td>I317333</td>\n",
       "      <td>10/30/2016 9:58</td>\n",
       "      <td>C111565</td>\n",
       "      <td>Male</td>\n",
       "      <td>21</td>\n",
       "      <td>Shoes</td>\n",
       "      <td>3</td>\n",
       "      <td>1800.51</td>\n",
       "      <td>1620.4590</td>\n",
       "      <td>Debit Card</td>\n",
       "      <td>South</td>\n",
       "      <td>Kentucky</td>\n",
       "      <td>Viaport Outlet</td>\n",
       "      <td>180.0510</td>\n",
       "    </tr>\n",
       "    <tr>\n",
       "      <th>2</th>\n",
       "      <td>I127801</td>\n",
       "      <td>10/30/2016 9:58</td>\n",
       "      <td>C266599</td>\n",
       "      <td>Male</td>\n",
       "      <td>20</td>\n",
       "      <td>Clothing</td>\n",
       "      <td>1</td>\n",
       "      <td>300.08</td>\n",
       "      <td>295.0600</td>\n",
       "      <td>Cash</td>\n",
       "      <td>West</td>\n",
       "      <td>California</td>\n",
       "      <td>Metrocity</td>\n",
       "      <td>5.0200</td>\n",
       "    </tr>\n",
       "    <tr>\n",
       "      <th>3</th>\n",
       "      <td>I173702</td>\n",
       "      <td>10/30/2016 9:58</td>\n",
       "      <td>C988172</td>\n",
       "      <td>Female</td>\n",
       "      <td>66</td>\n",
       "      <td>Shoes</td>\n",
       "      <td>5</td>\n",
       "      <td>3000.85</td>\n",
       "      <td>2900.7650</td>\n",
       "      <td>Credit Card</td>\n",
       "      <td>South</td>\n",
       "      <td>Florida</td>\n",
       "      <td>Metropol AVM</td>\n",
       "      <td>100.0850</td>\n",
       "    </tr>\n",
       "    <tr>\n",
       "      <th>4</th>\n",
       "      <td>I337046</td>\n",
       "      <td>10/30/2016 9:59</td>\n",
       "      <td>C189076</td>\n",
       "      <td>Female</td>\n",
       "      <td>53</td>\n",
       "      <td>Books</td>\n",
       "      <td>4</td>\n",
       "      <td>60.60</td>\n",
       "      <td>45.4500</td>\n",
       "      <td>Cash</td>\n",
       "      <td>South</td>\n",
       "      <td>Florida</td>\n",
       "      <td>Kanyon</td>\n",
       "      <td>15.1500</td>\n",
       "    </tr>\n",
       "    <tr>\n",
       "      <th>...</th>\n",
       "      <td>...</td>\n",
       "      <td>...</td>\n",
       "      <td>...</td>\n",
       "      <td>...</td>\n",
       "      <td>...</td>\n",
       "      <td>...</td>\n",
       "      <td>...</td>\n",
       "      <td>...</td>\n",
       "      <td>...</td>\n",
       "      <td>...</td>\n",
       "      <td>...</td>\n",
       "      <td>...</td>\n",
       "      <td>...</td>\n",
       "      <td>...</td>\n",
       "    </tr>\n",
       "    <tr>\n",
       "      <th>99452</th>\n",
       "      <td>I219422</td>\n",
       "      <td>11/15/2016 12:43</td>\n",
       "      <td>C441542</td>\n",
       "      <td>Female</td>\n",
       "      <td>45</td>\n",
       "      <td>Souvenir</td>\n",
       "      <td>5</td>\n",
       "      <td>58.65</td>\n",
       "      <td>43.9875</td>\n",
       "      <td>Credit Card</td>\n",
       "      <td>South</td>\n",
       "      <td>Alabama</td>\n",
       "      <td>Kanyon</td>\n",
       "      <td>14.6625</td>\n",
       "    </tr>\n",
       "    <tr>\n",
       "      <th>99453</th>\n",
       "      <td>I325143</td>\n",
       "      <td>11/15/2016 12:43</td>\n",
       "      <td>C569580</td>\n",
       "      <td>Male</td>\n",
       "      <td>27</td>\n",
       "      <td>Food &amp; Beverage</td>\n",
       "      <td>2</td>\n",
       "      <td>10.46</td>\n",
       "      <td>7.3220</td>\n",
       "      <td>Cash</td>\n",
       "      <td>South</td>\n",
       "      <td>Alabama</td>\n",
       "      <td>Viaport Outlet</td>\n",
       "      <td>3.1380</td>\n",
       "    </tr>\n",
       "    <tr>\n",
       "      <th>99454</th>\n",
       "      <td>I824010</td>\n",
       "      <td>11/15/2016 12:44</td>\n",
       "      <td>C103292</td>\n",
       "      <td>Male</td>\n",
       "      <td>63</td>\n",
       "      <td>Food &amp; Beverage</td>\n",
       "      <td>2</td>\n",
       "      <td>10.46</td>\n",
       "      <td>7.3220</td>\n",
       "      <td>Debit Card</td>\n",
       "      <td>South</td>\n",
       "      <td>Alabama</td>\n",
       "      <td>Metrocity</td>\n",
       "      <td>3.1380</td>\n",
       "    </tr>\n",
       "    <tr>\n",
       "      <th>99455</th>\n",
       "      <td>I702964</td>\n",
       "      <td>11/15/2016 12:44</td>\n",
       "      <td>C800631</td>\n",
       "      <td>Male</td>\n",
       "      <td>56</td>\n",
       "      <td>Technology</td>\n",
       "      <td>4</td>\n",
       "      <td>4200.00</td>\n",
       "      <td>3780.0000</td>\n",
       "      <td>Cash</td>\n",
       "      <td>South</td>\n",
       "      <td>Georgia</td>\n",
       "      <td>Istinye Park</td>\n",
       "      <td>420.0000</td>\n",
       "    </tr>\n",
       "    <tr>\n",
       "      <th>99456</th>\n",
       "      <td>I232867</td>\n",
       "      <td>11/15/2016 12:44</td>\n",
       "      <td>C273973</td>\n",
       "      <td>Female</td>\n",
       "      <td>36</td>\n",
       "      <td>Souvenir</td>\n",
       "      <td>3</td>\n",
       "      <td>35.19</td>\n",
       "      <td>24.6330</td>\n",
       "      <td>Credit Card</td>\n",
       "      <td>South</td>\n",
       "      <td>Georgia</td>\n",
       "      <td>Mall of Istanbul</td>\n",
       "      <td>10.5570</td>\n",
       "    </tr>\n",
       "  </tbody>\n",
       "</table>\n",
       "<p>99457 rows × 14 columns</p>\n",
       "</div>"
      ],
      "text/plain": [
       "      invoice_no      invoice_date customer_id  gender  age         category  \\\n",
       "0        I138884   10/30/2016 9:58     C241288  Female   28         Clothing   \n",
       "1        I317333   10/30/2016 9:58     C111565    Male   21            Shoes   \n",
       "2        I127801   10/30/2016 9:58     C266599    Male   20         Clothing   \n",
       "3        I173702   10/30/2016 9:58     C988172  Female   66            Shoes   \n",
       "4        I337046   10/30/2016 9:59     C189076  Female   53            Books   \n",
       "...          ...               ...         ...     ...  ...              ...   \n",
       "99452    I219422  11/15/2016 12:43     C441542  Female   45         Souvenir   \n",
       "99453    I325143  11/15/2016 12:43     C569580    Male   27  Food & Beverage   \n",
       "99454    I824010  11/15/2016 12:44     C103292    Male   63  Food & Beverage   \n",
       "99455    I702964  11/15/2016 12:44     C800631    Male   56       Technology   \n",
       "99456    I232867  11/15/2016 12:44     C273973  Female   36         Souvenir   \n",
       "\n",
       "       quantity  selling_price_per_unit  cost_price_per_unit payment_method  \\\n",
       "0             5                 1500.40            1425.3800    Credit Card   \n",
       "1             3                 1800.51            1620.4590     Debit Card   \n",
       "2             1                  300.08             295.0600           Cash   \n",
       "3             5                 3000.85            2900.7650    Credit Card   \n",
       "4             4                   60.60              45.4500           Cash   \n",
       "...         ...                     ...                  ...            ...   \n",
       "99452         5                   58.65              43.9875    Credit Card   \n",
       "99453         2                   10.46               7.3220           Cash   \n",
       "99454         2                   10.46               7.3220     Debit Card   \n",
       "99455         4                 4200.00            3780.0000           Cash   \n",
       "99456         3                   35.19              24.6330    Credit Card   \n",
       "\n",
       "      region       state     shopping_mall  Total Sales  \n",
       "0      South    Kentucky            Kanyon      75.0200  \n",
       "1      South    Kentucky    Viaport Outlet     180.0510  \n",
       "2       West  California         Metrocity       5.0200  \n",
       "3      South     Florida      Metropol AVM     100.0850  \n",
       "4      South     Florida            Kanyon      15.1500  \n",
       "...      ...         ...               ...          ...  \n",
       "99452  South     Alabama            Kanyon      14.6625  \n",
       "99453  South     Alabama    Viaport Outlet       3.1380  \n",
       "99454  South     Alabama         Metrocity       3.1380  \n",
       "99455  South     Georgia      Istinye Park     420.0000  \n",
       "99456  South     Georgia  Mall of Istanbul      10.5570  \n",
       "\n",
       "[99457 rows x 14 columns]"
      ]
     },
     "execution_count": 118,
     "metadata": {},
     "output_type": "execute_result"
    }
   ],
   "source": [
    "df1 = pd.read_csv('Updatedata_sales.csv')\n",
    "df1"
   ]
  },
  {
   "cell_type": "markdown",
   "metadata": {},
   "source": [
    "### 9. Display the top 10 invoices with the highest quantities sold?"
   ]
  },
  {
   "cell_type": "code",
   "execution_count": 119,
   "metadata": {},
   "outputs": [
    {
     "data": {
      "text/html": [
       "<div>\n",
       "<style scoped>\n",
       "    .dataframe tbody tr th:only-of-type {\n",
       "        vertical-align: middle;\n",
       "    }\n",
       "\n",
       "    .dataframe tbody tr th {\n",
       "        vertical-align: top;\n",
       "    }\n",
       "\n",
       "    .dataframe thead th {\n",
       "        text-align: right;\n",
       "    }\n",
       "</style>\n",
       "<table border=\"1\" class=\"dataframe\">\n",
       "  <thead>\n",
       "    <tr style=\"text-align: right;\">\n",
       "      <th></th>\n",
       "      <th>invoice_no</th>\n",
       "      <th>invoice_date</th>\n",
       "      <th>customer_id</th>\n",
       "      <th>gender</th>\n",
       "      <th>age</th>\n",
       "      <th>category</th>\n",
       "      <th>quantity</th>\n",
       "      <th>selling_price_per_unit</th>\n",
       "      <th>cost_price_per_unit</th>\n",
       "      <th>payment_method</th>\n",
       "      <th>region</th>\n",
       "      <th>state</th>\n",
       "      <th>shopping_mall</th>\n",
       "      <th>Total Sales</th>\n",
       "    </tr>\n",
       "  </thead>\n",
       "  <tbody>\n",
       "    <tr>\n",
       "      <th>100</th>\n",
       "      <td>I283443</td>\n",
       "      <td>10/30/2016 10:21</td>\n",
       "      <td>C189493</td>\n",
       "      <td>Male</td>\n",
       "      <td>43</td>\n",
       "      <td>Technology</td>\n",
       "      <td>15</td>\n",
       "      <td>3150.00</td>\n",
       "      <td>2677.500</td>\n",
       "      <td>Credit Card</td>\n",
       "      <td>Central</td>\n",
       "      <td>Illinois</td>\n",
       "      <td>Viaport Outlet</td>\n",
       "      <td>472.500</td>\n",
       "    </tr>\n",
       "    <tr>\n",
       "      <th>275</th>\n",
       "      <td>I282789</td>\n",
       "      <td>10/30/2016 11:02</td>\n",
       "      <td>C172185</td>\n",
       "      <td>Female</td>\n",
       "      <td>67</td>\n",
       "      <td>Cosmetics</td>\n",
       "      <td>12</td>\n",
       "      <td>81.32</td>\n",
       "      <td>76.924</td>\n",
       "      <td>Cash</td>\n",
       "      <td>West</td>\n",
       "      <td>Idaho</td>\n",
       "      <td>Istinye Park</td>\n",
       "      <td>4.396</td>\n",
       "    </tr>\n",
       "    <tr>\n",
       "      <th>109</th>\n",
       "      <td>I293215</td>\n",
       "      <td>10/30/2016 10:23</td>\n",
       "      <td>C166635</td>\n",
       "      <td>Male</td>\n",
       "      <td>18</td>\n",
       "      <td>Cosmetics</td>\n",
       "      <td>12</td>\n",
       "      <td>162.64</td>\n",
       "      <td>130.112</td>\n",
       "      <td>Credit Card</td>\n",
       "      <td>Central</td>\n",
       "      <td>Illinois</td>\n",
       "      <td>Istinye Park</td>\n",
       "      <td>32.528</td>\n",
       "    </tr>\n",
       "    <tr>\n",
       "      <th>305</th>\n",
       "      <td>I115679</td>\n",
       "      <td>10/30/2016 11:09</td>\n",
       "      <td>C266462</td>\n",
       "      <td>Male</td>\n",
       "      <td>27</td>\n",
       "      <td>Clothing</td>\n",
       "      <td>11</td>\n",
       "      <td>300.08</td>\n",
       "      <td>285.060</td>\n",
       "      <td>Cash</td>\n",
       "      <td>Central</td>\n",
       "      <td>Michigan</td>\n",
       "      <td>Kanyon</td>\n",
       "      <td>15.020</td>\n",
       "    </tr>\n",
       "    <tr>\n",
       "      <th>129</th>\n",
       "      <td>I160221</td>\n",
       "      <td>10/30/2016 10:28</td>\n",
       "      <td>C319231</td>\n",
       "      <td>Male</td>\n",
       "      <td>25</td>\n",
       "      <td>Clothing</td>\n",
       "      <td>10</td>\n",
       "      <td>900.24</td>\n",
       "      <td>675.180</td>\n",
       "      <td>Cash</td>\n",
       "      <td>West</td>\n",
       "      <td>Oregon</td>\n",
       "      <td>Mall of Istanbul</td>\n",
       "      <td>225.060</td>\n",
       "    </tr>\n",
       "    <tr>\n",
       "      <th>61</th>\n",
       "      <td>I207205</td>\n",
       "      <td>10/30/2016 10:12</td>\n",
       "      <td>C716161</td>\n",
       "      <td>Female</td>\n",
       "      <td>33</td>\n",
       "      <td>Clothing</td>\n",
       "      <td>10</td>\n",
       "      <td>300.08</td>\n",
       "      <td>225.060</td>\n",
       "      <td>Debit Card</td>\n",
       "      <td>East</td>\n",
       "      <td>New York</td>\n",
       "      <td>Kanyon</td>\n",
       "      <td>75.020</td>\n",
       "    </tr>\n",
       "    <tr>\n",
       "      <th>224</th>\n",
       "      <td>I353272</td>\n",
       "      <td>10/30/2016 10:50</td>\n",
       "      <td>C199311</td>\n",
       "      <td>Female</td>\n",
       "      <td>34</td>\n",
       "      <td>Clothing</td>\n",
       "      <td>10</td>\n",
       "      <td>300.08</td>\n",
       "      <td>292.060</td>\n",
       "      <td>Credit Card</td>\n",
       "      <td>East</td>\n",
       "      <td>Ohio</td>\n",
       "      <td>Istinye Park</td>\n",
       "      <td>8.020</td>\n",
       "    </tr>\n",
       "    <tr>\n",
       "      <th>201</th>\n",
       "      <td>I286193</td>\n",
       "      <td>10/30/2016 10:45</td>\n",
       "      <td>C322994</td>\n",
       "      <td>Male</td>\n",
       "      <td>37</td>\n",
       "      <td>Cosmetics</td>\n",
       "      <td>9</td>\n",
       "      <td>121.98</td>\n",
       "      <td>118.485</td>\n",
       "      <td>Cash</td>\n",
       "      <td>West</td>\n",
       "      <td>Colorado</td>\n",
       "      <td>Istinye Park</td>\n",
       "      <td>3.495</td>\n",
       "    </tr>\n",
       "    <tr>\n",
       "      <th>145</th>\n",
       "      <td>I246375</td>\n",
       "      <td>10/30/2016 10:32</td>\n",
       "      <td>C236365</td>\n",
       "      <td>Female</td>\n",
       "      <td>67</td>\n",
       "      <td>Cosmetics</td>\n",
       "      <td>8</td>\n",
       "      <td>81.32</td>\n",
       "      <td>56.924</td>\n",
       "      <td>Cash</td>\n",
       "      <td>West</td>\n",
       "      <td>Oregon</td>\n",
       "      <td>Kanyon</td>\n",
       "      <td>24.396</td>\n",
       "    </tr>\n",
       "    <tr>\n",
       "      <th>11</th>\n",
       "      <td>I139207</td>\n",
       "      <td>10/30/2016 10:00</td>\n",
       "      <td>C191708</td>\n",
       "      <td>Female</td>\n",
       "      <td>29</td>\n",
       "      <td>Books</td>\n",
       "      <td>8</td>\n",
       "      <td>15.15</td>\n",
       "      <td>15.105</td>\n",
       "      <td>Credit Card</td>\n",
       "      <td>West</td>\n",
       "      <td>Idaho</td>\n",
       "      <td>Zorlu Center</td>\n",
       "      <td>0.045</td>\n",
       "    </tr>\n",
       "  </tbody>\n",
       "</table>\n",
       "</div>"
      ],
      "text/plain": [
       "    invoice_no      invoice_date customer_id  gender  age    category  \\\n",
       "100    I283443  10/30/2016 10:21     C189493    Male   43  Technology   \n",
       "275    I282789  10/30/2016 11:02     C172185  Female   67   Cosmetics   \n",
       "109    I293215  10/30/2016 10:23     C166635    Male   18   Cosmetics   \n",
       "305    I115679  10/30/2016 11:09     C266462    Male   27    Clothing   \n",
       "129    I160221  10/30/2016 10:28     C319231    Male   25    Clothing   \n",
       "61     I207205  10/30/2016 10:12     C716161  Female   33    Clothing   \n",
       "224    I353272  10/30/2016 10:50     C199311  Female   34    Clothing   \n",
       "201    I286193  10/30/2016 10:45     C322994    Male   37   Cosmetics   \n",
       "145    I246375  10/30/2016 10:32     C236365  Female   67   Cosmetics   \n",
       "11     I139207  10/30/2016 10:00     C191708  Female   29       Books   \n",
       "\n",
       "     quantity  selling_price_per_unit  cost_price_per_unit payment_method  \\\n",
       "100        15                 3150.00             2677.500    Credit Card   \n",
       "275        12                   81.32               76.924           Cash   \n",
       "109        12                  162.64              130.112    Credit Card   \n",
       "305        11                  300.08              285.060           Cash   \n",
       "129        10                  900.24              675.180           Cash   \n",
       "61         10                  300.08              225.060     Debit Card   \n",
       "224        10                  300.08              292.060    Credit Card   \n",
       "201         9                  121.98              118.485           Cash   \n",
       "145         8                   81.32               56.924           Cash   \n",
       "11          8                   15.15               15.105    Credit Card   \n",
       "\n",
       "      region     state     shopping_mall  Total Sales  \n",
       "100  Central  Illinois    Viaport Outlet      472.500  \n",
       "275     West     Idaho      Istinye Park        4.396  \n",
       "109  Central  Illinois      Istinye Park       32.528  \n",
       "305  Central  Michigan            Kanyon       15.020  \n",
       "129     West    Oregon  Mall of Istanbul      225.060  \n",
       "61      East  New York            Kanyon       75.020  \n",
       "224     East      Ohio      Istinye Park        8.020  \n",
       "201     West  Colorado      Istinye Park        3.495  \n",
       "145     West    Oregon            Kanyon       24.396  \n",
       "11      West     Idaho      Zorlu Center        0.045  "
      ]
     },
     "execution_count": 119,
     "metadata": {},
     "output_type": "execute_result"
    }
   ],
   "source": [
    "# Sort the DataFrame by quantity sold in descending order\n",
    "top_invoices = df.sort_values(by='quantity', ascending=False).head(10) \n",
    "top_invoices"
   ]
  },
  {
   "cell_type": "code",
   "execution_count": 120,
   "metadata": {},
   "outputs": [
    {
     "name": "stdout",
     "output_type": "stream",
     "text": [
      "\n",
      "Top 10 Invoices with the Highest Quantities Sold:\n",
      "    invoice_no  quantity\n",
      "100    I283443        15\n",
      "275    I282789        12\n",
      "109    I293215        12\n",
      "305    I115679        11\n",
      "129    I160221        10\n",
      "61     I207205        10\n",
      "224    I353272        10\n",
      "201    I286193         9\n",
      "145    I246375         8\n",
      "11     I139207         8\n"
     ]
    }
   ],
   "source": [
    "# Output the top 10 invoices\n",
    "print(\"\\nTop 10 Invoices with the Highest Quantities Sold:\")\n",
    "print(top_invoices[['invoice_no', 'quantity']]) "
   ]
  },
  {
   "cell_type": "markdown",
   "metadata": {},
   "source": [
    "### 10. Which payment method is most commonly used?"
   ]
  },
  {
   "cell_type": "code",
   "execution_count": 121,
   "metadata": {},
   "outputs": [
    {
     "data": {
      "text/plain": [
       "payment_method\n",
       "Cash           44447\n",
       "Credit Card    34931\n",
       "Debit Card     20079\n",
       "Name: count, dtype: int64"
      ]
     },
     "execution_count": 121,
     "metadata": {},
     "output_type": "execute_result"
    }
   ],
   "source": [
    "# Count the number of occurrences of each payment method\n",
    "payment_counts = df['payment_method'].value_counts()\n",
    "payment_counts"
   ]
  },
  {
   "cell_type": "code",
   "execution_count": 122,
   "metadata": {},
   "outputs": [
    {
     "name": "stdout",
     "output_type": "stream",
     "text": [
      "The most commonly used payment method is: 'Cash' with 44447 occurrences.\n"
     ]
    }
   ],
   "source": [
    "# Identify the most commonly used payment method\n",
    "most_common_payment_method = payment_counts.idxmax()\n",
    "most_common_count = payment_counts.max()\n",
    "\n",
    "# Output the results\n",
    "print(f\"The most commonly used payment method is: '{most_common_payment_method}' with {most_common_count} occurrences.\")"
   ]
  },
  {
   "cell_type": "markdown",
   "metadata": {},
   "source": [
    "### 11. Total Sales with respect to region?"
   ]
  },
  {
   "cell_type": "code",
   "execution_count": 123,
   "metadata": {},
   "outputs": [
    {
     "data": {
      "text/plain": [
       "region\n",
       "Central    1.945985e+06\n",
       "East       2.416917e+06\n",
       "South      1.356742e+06\n",
       "West       2.648913e+06\n",
       "Name: Total Sales, dtype: float64"
      ]
     },
     "execution_count": 123,
     "metadata": {},
     "output_type": "execute_result"
    }
   ],
   "source": [
    "# Group by region and sum the sales\n",
    "total_sales_by_region = df.groupby('region')['Total Sales'].sum()\n",
    "total_sales_by_region"
   ]
  },
  {
   "cell_type": "code",
   "execution_count": 124,
   "metadata": {},
   "outputs": [
    {
     "name": "stdout",
     "output_type": "stream",
     "text": [
      "\n",
      "Total Sales with respect to Region:\n",
      "region\n",
      "Central    1.945985e+06\n",
      "East       2.416917e+06\n",
      "South      1.356742e+06\n",
      "West       2.648913e+06\n",
      "Name: Total Sales, dtype: float64\n"
     ]
    }
   ],
   "source": [
    "# Output the total sales for each region\n",
    "print(\"\\nTotal Sales with respect to Region:\")\n",
    "print(total_sales_by_region)"
   ]
  },
  {
   "cell_type": "markdown",
   "metadata": {},
   "source": [
    "### 12. Sort Malls with average sales higher to lower?"
   ]
  },
  {
   "cell_type": "code",
   "execution_count": 125,
   "metadata": {},
   "outputs": [
    {
     "data": {
      "text/plain": [
       "shopping_mall\n",
       "Istinye Park        83.415088\n",
       "Kanyon              83.997106\n",
       "Mall of Istanbul    84.700919\n",
       "Metrocity           84.066586\n",
       "Metropol AVM        83.606480\n",
       "Viaport Outlet      83.814096\n",
       "Zorlu Center        85.398701\n",
       "Name: Total Sales, dtype: float64"
      ]
     },
     "execution_count": 125,
     "metadata": {},
     "output_type": "execute_result"
    }
   ],
   "source": [
    "# Group by mall and calculate the average sales\n",
    "average_sales_by_mall = df.groupby('shopping_mall')['Total Sales'].mean()\n",
    "average_sales_by_mall"
   ]
  },
  {
   "cell_type": "code",
   "execution_count": 126,
   "metadata": {},
   "outputs": [
    {
     "data": {
      "text/plain": [
       "shopping_mall\n",
       "Zorlu Center        85.398701\n",
       "Mall of Istanbul    84.700919\n",
       "Metrocity           84.066586\n",
       "Kanyon              83.997106\n",
       "Viaport Outlet      83.814096\n",
       "Metropol AVM        83.606480\n",
       "Istinye Park        83.415088\n",
       "Name: Total Sales, dtype: float64"
      ]
     },
     "execution_count": 126,
     "metadata": {},
     "output_type": "execute_result"
    }
   ],
   "source": [
    "# Sort the malls by average sales in descending order\n",
    "sorted_malls = average_sales_by_mall.sort_values(ascending=False)\n",
    "sorted_malls "
   ]
  },
  {
   "cell_type": "code",
   "execution_count": 127,
   "metadata": {},
   "outputs": [
    {
     "name": "stdout",
     "output_type": "stream",
     "text": [
      "\n",
      "Malls sorted by average sales (higher to lower):\n",
      "shopping_mall\n",
      "Zorlu Center        85.398701\n",
      "Mall of Istanbul    84.700919\n",
      "Metrocity           84.066586\n",
      "Kanyon              83.997106\n",
      "Viaport Outlet      83.814096\n",
      "Metropol AVM        83.606480\n",
      "Istinye Park        83.415088\n",
      "Name: Total Sales, dtype: float64\n"
     ]
    }
   ],
   "source": [
    "# Output the sorted list of malls\n",
    "print(\"\\nMalls sorted by average sales (higher to lower):\")\n",
    "print(sorted_malls)"
   ]
  },
  {
   "cell_type": "markdown",
   "metadata": {},
   "source": [
    "### 13. Sort categories with the highest profit margins display in bar plot?\n",
    "\n",
    "Profit Margin=(Total Sales/Total Profit)×100"
   ]
  },
  {
   "cell_type": "code",
   "execution_count": 138,
   "metadata": {},
   "outputs": [
    {
     "name": "stdout",
     "output_type": "stream",
     "text": [
      "  invoice_no     invoice_date customer_id  gender  age  category  quantity  \\\n",
      "0    I138884  10/30/2016 9:58     C241288  Female   28  Clothing         5   \n",
      "1    I317333  10/30/2016 9:58     C111565    Male   21     Shoes         3   \n",
      "2    I127801  10/30/2016 9:58     C266599    Male   20  Clothing         1   \n",
      "3    I173702  10/30/2016 9:58     C988172  Female   66     Shoes         5   \n",
      "4    I337046  10/30/2016 9:59     C189076  Female   53     Books         4   \n",
      "\n",
      "   selling_price_per_unit  cost_price_per_unit payment_method region  \\\n",
      "0                 1500.40             1425.380    Credit Card  South   \n",
      "1                 1800.51             1620.459     Debit Card  South   \n",
      "2                  300.08              295.060           Cash   West   \n",
      "3                 3000.85             2900.765    Credit Card  South   \n",
      "4                   60.60               45.450           Cash  South   \n",
      "\n",
      "        state   shopping_mall  Total Sales  Total Profit  Profit Margin  \n",
      "0    Kentucky          Kanyon       75.020             0              0  \n",
      "1    Kentucky  Viaport Outlet      180.051             0              0  \n",
      "2  California       Metrocity        5.020             0              0  \n",
      "3     Florida    Metropol AVM      100.085             0              0  \n",
      "4     Florida          Kanyon       15.150             0              0  \n"
     ]
    }
   ],
   "source": [
    "df['Total Profit'] = 0\n",
    "df['Profit Margin'] = 0\n",
    "# df.head(10)\n",
    "print(df.head())"
   ]
  },
  {
   "cell_type": "code",
   "execution_count": 137,
   "metadata": {},
   "outputs": [
    {
     "data": {
      "text/plain": [
       "68551365.91"
      ]
     },
     "execution_count": 137,
     "metadata": {},
     "output_type": "execute_result"
    }
   ],
   "source": [
    "total_sales = df['selling_price_per_unit'].sum()\n",
    "total_sales"
   ]
  },
  {
   "cell_type": "code",
   "execution_count": 133,
   "metadata": {},
   "outputs": [
    {
     "data": {
      "text/plain": [
       "8368557.30399999"
      ]
     },
     "execution_count": 133,
     "metadata": {},
     "output_type": "execute_result"
    }
   ],
   "source": [
    "df['selling_price_per_unit'].sum() \n",
    "df['cost_price_per_unit'].sum()\n"
   ]
  },
  {
   "cell_type": "code",
   "execution_count": 135,
   "metadata": {},
   "outputs": [
    {
     "data": {
      "text/plain": [
       "8368557.30399999"
      ]
     },
     "execution_count": 135,
     "metadata": {},
     "output_type": "execute_result"
    }
   ],
   "source": [
    "Total_Profit = df['selling_price_per_unit'].sum() -  df['cost_price_per_unit'].sum()\n",
    "Total_Profit\n"
   ]
  },
  {
   "cell_type": "code",
   "execution_count": 141,
   "metadata": {},
   "outputs": [
    {
     "data": {
      "image/png": "[encoded data removed]",
      "text/plain": [
       "<Figure size 1000x500 with 1 Axes>"
      ]
     },
     "metadata": {},
     "output_type": "display_data"
    }
   ],
   "source": [
    "df['Profit Margin'] = (df['Total Profit'] / df['Total Sales']) * 100\n",
    "avg_profit_margin_by_category = df.groupby('category')['Profit Margin'].mean()\n",
    "sorted_categories_by_profit_margin = avg_profit_margin_by_category.sort_values(ascending=False)\n",
    "plt.figure(figsize=(10, 5))\n",
    "sorted_categories_by_profit_margin.plot(kind='bar', color='green')\n",
    "plt.title(\"Categories with Highest Profit Margins\")\n",
    "plt.xlabel(\"Category\")\n",
    "plt.ylabel(\"Average Profit Margin (%)\")\n",
    "plt.show()"
   ]
  },
  {
   "cell_type": "markdown",
   "metadata": {},
   "source": [
    "### 14.  What is the total number of transactions per region for each payment method?"
   ]
  },
  {
   "cell_type": "code",
   "execution_count": 84,
   "metadata": {},
   "outputs": [
    {
     "name": "stdout",
     "output_type": "stream",
     "text": [
      "\n",
      "Total Number of Transactions per Region for Each Payment Method:\n",
      "     region payment_method  transaction_count\n",
      "0   Central           Cash              10319\n",
      "1   Central    Credit Card               8140\n",
      "2   Central     Debit Card               4640\n",
      "3      East           Cash              12738\n",
      "4      East    Credit Card               9817\n",
      "5      East     Debit Card               5751\n",
      "6     South           Cash               7227\n",
      "7     South    Credit Card               5698\n",
      "8     South     Debit Card               3284\n",
      "9      West           Cash              14163\n",
      "10     West    Credit Card              11276\n",
      "11     West     Debit Card               6404\n"
     ]
    }
   ],
   "source": [
    "# Assuming there are 'region' and 'payment_method' columns\n",
    "# Group by region and payment method and count the number of transactions\n",
    "transaction_counts = df.groupby(['region', 'payment_method']).size().reset_index(name='transaction_count')\n",
    "\n",
    "# Output the total number of transactions per region for each payment method\n",
    "print(\"\\nTotal Number of Transactions per Region for Each Payment Method:\")\n",
    "print(transaction_counts)"
   ]
  },
  {
   "cell_type": "markdown",
   "metadata": {},
   "source": [
    "### 15. How do sales in different categories compare between males and females?"
   ]
  },
  {
   "cell_type": "code",
   "execution_count": null,
   "metadata": {},
   "outputs": [],
   "source": [
    "# Assuming there are 'gender', 'category', and 'sales' columns\n",
    "# Group by gender and category and sum the sales\n",
    "sales_comparison = df.groupby(['gender', 'category'])['Total Sales'].sum().unstack()"
   ]
  },
  {
   "cell_type": "code",
   "execution_count": 87,
   "metadata": {},
   "outputs": [
    {
     "name": "stdout",
     "output_type": "stream",
     "text": [
      "\n",
      "Sales in Different Categories Compared Between Males and Females:\n",
      "category       Books     Clothing   Cosmetics  Food & Beverage        Shoes  \\\n",
      "gender                                                                        \n",
      "Female    35916.1500  2422783.396  254777.352       37224.1860  1036233.573   \n",
      "Male      25363.4325  1618561.628  169911.800       25316.6455   709400.940   \n",
      "\n",
      "category    Souvenir  Technology        Toys  \n",
      "gender                                        \n",
      "Female    28542.0225   1032990.0  150933.456  \n",
      "Male      18696.9745    703132.5   98773.248  \n"
     ]
    }
   ],
   "source": [
    "# Output the total sales for each category by gender\n",
    "print(\"\\nSales in Different Categories Compared Between Males and Females:\")\n",
    "print(sales_comparison)"
   ]
  }
 ],
 "metadata": {
  "kernelspec": {
   "display_name": "Python 3",
   "language": "python",
   "name": "python3"
  },
  "language_info": {
   "codemirror_mode": {
    "name": "ipython",
    "version": 3
   },
   "file_extension": ".py",
   "mimetype": "text/x-python",
   "name": "python",
   "nbconvert_exporter": "python",
   "pygments_lexer": "ipython3",
   "version": "3.11.5"
  }
 },
 "nbformat": 4,
 "nbformat_minor": 2
}
