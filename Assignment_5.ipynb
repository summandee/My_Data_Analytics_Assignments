{
 "cells": [
  {
   "cell_type": "markdown",
   "id": "170d9f80-0bdf-4d32-9736-93e86857cc87",
   "metadata": {},
   "source": [
    "1. Write a Python function called add_numbers that takes two numbers as arguments and returns their sum. Then, test the function by calling it with two numbers of your choice."
   ]
  },
  {
   "cell_type": "code",
   "execution_count": 16,
   "id": "3a34f46e-8fe5-45c7-b932-9c8e51851eae",
   "metadata": {},
   "outputs": [
    {
     "name": "stdout",
     "output_type": "stream",
     "text": [
      "Output :\n",
      "    The sum is: 15\n"
     ]
    }
   ],
   "source": [
    "#Q-1  Write a Python function called add_numbers that takes two numbers as arguments and returns their sum. \n",
    "# // Define the function\n",
    "def add_numbers(num1, num2):\n",
    "    return num1 + num2\n",
    "\n",
    "# // Test the function\n",
    "result = add_numbers(5, 10)\n",
    "print(f\"Output :\\n    The sum is: {result}\")"
   ]
  },
  {
   "cell_type": "markdown",
   "id": "7f9ede6d-db1d-4d2c-ac3c-c4e1a3653c30",
   "metadata": {},
   "source": [
    "2. Write a Python function count_vowels that accepts a string and returns the number of vowels (a, e, i, o, u) in that string.\n",
    "- Example: 'Orange'\n",
    "- Output: 3 vowels\n"
   ]
  },
  {
   "cell_type": "code",
   "execution_count": 13,
   "id": "a17b7220-c434-403c-949f-a43c6c64cbe4",
   "metadata": {},
   "outputs": [
    {
     "name": "stdout",
     "output_type": "stream",
     "text": [
      " Output :\n",
      "     'Orange' contains 3 vowels.\n"
     ]
    }
   ],
   "source": [
    "# Q-2 Write a Python function count_vowels that accepts a string and returns the number of vowels (a, e, i, o, u) in that string.\n",
    "def count_vowels(text):\n",
    "    vowels = 'aeiouAEIOU'\n",
    "    count = 0  # Initialize a local counter\n",
    "    for ch in text:  # Iterate through each character in the input string\n",
    "        if ch in vowels:   # Check if the character is a vowel\n",
    "            count += 1    # Increment the counter\n",
    "    return count  # Return the total count of vowels\n",
    "# Example :\n",
    "text = \"Orange\"\n",
    "result = count_vowels(text)\n",
    "print(f\" Output :\\n     '{text}' contains {result} vowels.\")   \n",
    "    "
   ]
  },
  {
   "cell_type": "markdown",
   "id": "09ed52aa-b88e-4f30-a017-652d8de535cc",
   "metadata": {},
   "source": [
    "3. Create a Python function called currency_converter() that takes two arguments:\n",
    "\n",
    "- amount: The amount of money to be converted (in USD).\n",
    "- exchange_rate (default is 280): The conversion rate from USD to another currency (e.g., PKR). You can assume the default rate is 1 USD = 280 PKR.\n",
    "\n",
    "  The function should return a message showing how much the given amount is worth in the target currency (PKR)."
   ]
  },
  {
   "cell_type": "code",
   "execution_count": 10,
   "id": "d6ece053-249b-4b95-8def-3e99a8aa4e7e",
   "metadata": {},
   "outputs": [
    {
     "name": "stdout",
     "output_type": "stream",
     "text": [
      "Output :\n",
      "  Given Amount Is Worth :  28000 /PKR \n"
     ]
    }
   ],
   "source": [
    "# Q-3  Create a Python function called currency_converter() that takes two arguments:\n",
    "def currency_converter(amount, exchange_rate):\n",
    "     conversion_rate = amount * exchange_rate\n",
    "     return  conversion_rate \n",
    "result = currency_converter(100, 280)   \n",
    "print(f\"Output :\\n  Given Amount Is Worth :  {result} /PKR \")"
   ]
  },
  {
   "cell_type": "markdown",
   "id": "80ee5bc1-0c50-4341-9c04-12c9706e3e2d",
   "metadata": {},
   "source": [
    "4. Write a Python function display_student_info that accepts the following details about a student:\n",
    "\n",
    "- name (Keyword argument): The name of the student.\n",
    "- age (Keyword argument): The age of the student.\n",
    "- grade (Keyword argument): The grade the student is in.\n",
    "- school (Keyword argument): The name of the school the student attends."
   ]
  },
  {
   "cell_type": "code",
   "execution_count": 22,
   "id": "2b6b7132-0022-4caa-ac50-7375276ad782",
   "metadata": {},
   "outputs": [
    {
     "name": "stdout",
     "output_type": "stream",
     "text": [
      "Output :\n",
      "{'name': 'Ruhaan', 'age': 20, 'grade': 'A', 'school': 'abc school'}\n"
     ]
    }
   ],
   "source": [
    "# Q-4   Write a Python function display_student_info that accepts the following details about a student:\n",
    "def  display_student_info(**kwargs):\n",
    "    return print(kwargs)\n",
    "print(\"Output :\")\n",
    "display_student_info(name = \"Ruhaan\", age = 20, grade= \"A\", school= \"abc school\")   \n"
   ]
  },
  {
   "cell_type": "markdown",
   "id": "0fe94f0f-cf3b-4122-8c18-204e74890214",
   "metadata": {},
   "source": [
    "5. Write a Python function calculate_price that accepts two positional arguments:\n",
    "\n",
    "- price: The price of a single item.\n",
    "- quantity: The number of items bought.\n",
    "- The function should return the total price by multiplying price and quantity."
   ]
  },
  {
   "cell_type": "code",
   "execution_count": 17,
   "id": "b15a9a8e-5627-4325-8ce4-23c380eb692a",
   "metadata": {},
   "outputs": [
    {
     "name": "stdout",
     "output_type": "stream",
     "text": [
      "Output :\n",
      "      total_price = 2000\n"
     ]
    }
   ],
   "source": [
    "# Q-5 Write a Python function calculate_price that accepts two positional arguments:\n",
    "def calculate_price(price_of_single_item, item_qantity):\n",
    "     total_price = price_of_single_item * item_qantity\n",
    "     return total_price\n",
    "x = calculate_price(200, 10) \n",
    "print(f\"Output :\\n     total_price = {x}\")\n"
   ]
  },
  {
   "cell_type": "markdown",
   "id": "f296207b-8c2c-4fed-a439-55c62a4fad48",
   "metadata": {},
   "source": [
    "6. Write a Python function display_prices that takes a product name and an arbitrary number of keyword arguments representing product prices. The function should display each product and its price.\n",
    "\n",
    "- Product: Laptop\n",
    "- Amazon: $800\n",
    "\n",
    "- eBay: $750\n",
    "  \n",
    "- Walmart: $780\n"
   ]
  },
  {
   "cell_type": "code",
   "execution_count": 18,
   "id": "80521dd0-e7b3-47a9-a785-742ee9999f5c",
   "metadata": {},
   "outputs": [
    {
     "name": "stdout",
     "output_type": "stream",
     "text": [
      "Output : \n"
     ]
    },
    {
     "data": {
      "text/plain": [
       "{'product_name': 'watches', 'product_prices': 4000}"
      ]
     },
     "execution_count": 18,
     "metadata": {},
     "output_type": "execute_result"
    }
   ],
   "source": [
    "# Q-6  Write a Python function display_prices that takes a product name and  an arbitrary number\n",
    "#       of keyword arguments representing product prices. The function should display each product and its price.\n",
    "def  display_prices(**kwargs):\n",
    "   return kwargs\n",
    "print(\"Output : \")\n",
    "display_prices(product_name = \"watches\",  product_prices=4000)"
   ]
  },
  {
   "cell_type": "markdown",
   "id": "5f1c1d64-058b-4ace-ab15-ac1debdce1a0",
   "metadata": {},
   "source": [
    "7. Write a Python function find_max that takes any number of numerical arguments and returns the maximum number."
   ]
  },
  {
   "cell_type": "code",
   "execution_count": 19,
   "id": "f0de6af0-c968-4120-a292-5df23c6b8754",
   "metadata": {},
   "outputs": [
    {
     "name": "stdout",
     "output_type": "stream",
     "text": [
      "Output : \n"
     ]
    },
    {
     "data": {
      "text/plain": [
       "100"
      ]
     },
     "execution_count": 19,
     "metadata": {},
     "output_type": "execute_result"
    }
   ],
   "source": [
    "# Q-7  Write a Python function find_max that takes any number of numerical arguments and returns the maximum number.\n",
    "def  find_max(*wargs):\n",
    "    max_num = max(wargs)\n",
    "    return max_num \n",
    "print(\"Output : \")\n",
    "find_max(2, 45, 66, 90) \n",
    "find_max(2, 45, 66, 10)  \n",
    "find_max(2, 45, 66, 100)  "
   ]
  },
  {
   "cell_type": "code",
   "execution_count": 77,
   "id": "db49e01c-86a6-40a3-b812-579a326b1f51",
   "metadata": {},
   "outputs": [
    {
     "name": "stdout",
     "output_type": "stream",
     "text": [
      "Output : \n",
      "90\n",
      "400\n",
      "100\n"
     ]
    }
   ],
   "source": [
    "# Q-7  Write a Python function find_max that takes any number of numerical arguments and returns the maximum number.\n",
    "\n",
    "def  find_max(*wargs):\n",
    "    max_num = max(wargs)\n",
    "    return print(max_num)\n",
    "print(\"Output : \")   \n",
    "find_max(90, 45, 66, 33) \n",
    "find_max(400, 45, 66, 10, 68)  \n",
    "find_max(2, 45, 100, 66,88) "
   ]
  },
  {
   "cell_type": "markdown",
   "id": "133f4fd5-0f8d-4595-88c2-0cd7371c775b",
   "metadata": {},
   "source": [
    "8. Write a Python function display_info that takes:\n",
    "\n",
    "- Positional arguments for the name and age of a person.\n",
    "- Keyword arguments for other personal details like address, phone number, and email.\n",
    "\n",
    "Example Output:\n",
    "\n",
    "- Name: Alice\n",
    "- Age: 30\n",
    "- Other Details:\n",
    "    - address: 123 Main St\n",
    "    - phone: 123-456-7890\n",
    "    - email: alice@example.com\n"
   ]
  },
  {
   "cell_type": "code",
   "execution_count": 94,
   "id": "85393081-6f0c-44ae-ad93-a1288b76f228",
   "metadata": {},
   "outputs": [
    {
     "name": "stdout",
     "output_type": "stream",
     "text": [
      "Output : \n"
     ]
    },
    {
     "data": {
      "text/plain": [
       "\" name : Alice, age : 30 , {'address': '123', 'phone': '123-456-7890', 'email': 'alice@example.com'}\""
      ]
     },
     "execution_count": 94,
     "metadata": {},
     "output_type": "execute_result"
    }
   ],
   "source": [
    "# Q-8  Write a Python function display_info that takes: Positional arguments , Keyword arguments\n",
    "\n",
    "def display_info(name, age, **kwargs):\n",
    "    return (f\" name : {name}, age : {age} , {kwargs}\") \n",
    "print(\"Output : \")\n",
    "display_info(\"Alice\", 30,  address = \"123\", phone = \"123-456-7890\" ,email = \"alice@example.com\")  "
   ]
  },
  {
   "cell_type": "markdown",
   "id": "ba32f7dd-8038-4e6d-a785-0244a500313c",
   "metadata": {},
   "source": [
    "9. Write a Python function calculate_rectangle that accepts the length and width of a rectangle as arguments. Inside this function, create two nested functions:\n",
    "\n",
    "- calculate_area: This function should calculate the area of the rectangle.\n",
    "- calculate_perimeter: This function should calculate the perimeter of the rectangle.\n",
    "- The main function should return both the area and the perimeter of the rectangle."
   ]
  },
  {
   "cell_type": "code",
   "execution_count": 1,
   "id": "36b8bd88-a32c-497d-829b-52bf27cffe5a",
   "metadata": {},
   "outputs": [
    {
     "name": "stdout",
     "output_type": "stream",
     "text": [
      "Area of the rectangle: 15.0\n",
      "Perimeter of the rectangle: 16.0\n"
     ]
    }
   ],
   "source": [
    "def calculate_rectangle(length, width):\n",
    "    \"\"\"\n",
    "    Calculate the area and perimeter of a rectangle using nested functions.\n",
    "\n",
    "    Parameters:\n",
    "        length (float): The length of the rectangle.\n",
    "        width (float): The width of the rectangle.\n",
    "\n",
    "    Returns:\n",
    "        tuple: A tuple containing the area and perimeter of the rectangle.\n",
    "    \"\"\"\n",
    "    # Nested function to calculate the area\n",
    "    def calculate_area():\n",
    "        return length * width\n",
    "\n",
    "    # Nested function to calculate the perimeter\n",
    "    def calculate_perimeter():\n",
    "        return 2 * (length + width)\n",
    "\n",
    "    # Calculate area and perimeter using the nested functions\n",
    "    area = calculate_area()\n",
    "    perimeter = calculate_perimeter()\n",
    "\n",
    "    # Return the results as a tuple\n",
    "    return area, perimeter\n",
    "\n",
    "# Example usage\n",
    "length = 5.0\n",
    "width = 3.0\n",
    "area, perimeter = calculate_rectangle(length, width)\n",
    "\n",
    "print(f\"Area of the rectangle: {area}\")\n",
    "print(f\"Perimeter of the rectangle: {perimeter}\")"
   ]
  },
  {
   "cell_type": "markdown",
   "id": "ff60a2fd-df19-4d11-ae27-27443c000e5a",
   "metadata": {},
   "source": [
    "Q 10.\n",
    "\n",
    "products = [\n",
    "    {\"name\": \"Laptop\", \"price\": 1200, \"in_stock\": True, \"discount\": 0.1},\n",
    "    {\"name\": \"Smartphone\", \"price\": 800, \"in_stock\": False, \"discount\": 0.05},\n",
    "    {\"name\": \"Headphones\", \"price\": 150, \"in_stock\": True, \"discount\": 0.2},\n",
    "    {\"name\": \"Smartwatch\", \"price\": 300, \"in_stock\": True, \"discount\": 0},\n",
    "    {\"name\": \"Keyboard\", \"price\": 100, \"in_stock\": True, \"discount\": 0.15}\n",
    "]\n",
    "\n",
    "- Get names of in-stock products:\n",
    "\n",
    "  *Use list comprehension to generate a list of names for the products that are in stock.\n",
    "                                            \n",
    "- Calculate final prices for in-stock products after discount:\n",
    "\n",
    "    *For products that have a discount, calculate the final price by applying the discount.\n",
    "\n",
    "  \n",
    "    *For products with no discount, keep the original price.\n",
    "                                            \n",
    "- Generate a list of tuples with the product name and its final price.\n",
    "\n",
    "Example Output:\n",
    "\n",
    "- In-stock product names: ['Laptop', 'Headphones', 'Smartwatch', 'Keyboard']\n",
    "- Discounted prices: [('Laptop', 1080.0), ('Headphones', 120.0), ('Smartwatch', 300), ('Keyboard', 85.0)]\n"
   ]
  },
  {
   "cell_type": "code",
   "execution_count": 273,
   "id": "258c9536-f80f-479a-a01d-92936f9d3a3f",
   "metadata": {},
   "outputs": [],
   "source": [
    "# Q-10  Get names of in-stock products, \n",
    "  # Calculate final prices for in-stock products after discount,\n",
    "  #  Generate a list of tuples with the product name and its final price.\n",
    "products = [\n",
    "    {\"name\": \"Laptop\", \"price\": 1200, \"in_stock\": True, \"discount\": 0.1},\n",
    "    {\"name\": \"Smartphone\", \"price\": 800, \"in_stock\": False, \"discount\": 0.05},\n",
    "    {\"name\": \"Headphones\", \"price\": 150, \"in_stock\": True, \"discount\": 0.2},\n",
    "    {\"name\": \"Smartwatch\", \"price\": 300, \"in_stock\": True, \"discount\": 0},\n",
    "    {\"name\": \"Keyboard\", \"price\": 100, \"in_stock\": True, \"discount\": 0.15}\n",
    "]\n",
    "\n"
   ]
  },
  {
   "cell_type": "code",
   "execution_count": 110,
   "id": "6bc346b8-72e5-4cc7-8418-4d2fe49af999",
   "metadata": {},
   "outputs": [
    {
     "name": "stdout",
     "output_type": "stream",
     "text": [
      "Output :\n",
      "Name List Of Products : \n"
     ]
    },
    {
     "data": {
      "text/plain": [
       "['Laptop', 'Smartphone', 'Headphones', 'Smartwatch', 'Keyboard']"
      ]
     },
     "execution_count": 110,
     "metadata": {},
     "output_type": "execute_result"
    }
   ],
   "source": [
    "# Q-10-a\n",
    "# Get names of in-stock products:\n",
    "name_list = []\n",
    "for name in products:\n",
    "      name_list.append(name['name'])  \n",
    "print(\"Output :\\nName List Of Products : \")\n",
    "name_list "
   ]
  },
  {
   "cell_type": "code",
   "execution_count": 278,
   "id": "6e34bd61-753c-4676-b96f-d44423f4b1df",
   "metadata": {},
   "outputs": [
    {
     "name": "stdout",
     "output_type": "stream",
     "text": [
      "Output:\n",
      "Name List Of Products with Discounted Prices:\n",
      "Laptop: $1198.80\n",
      "Smartphone: $799.60\n",
      "Headphones: $149.70\n",
      "Smartwatch: $300.00\n",
      "Keyboard: $99.85\n"
     ]
    }
   ],
   "source": [
    "# Q-10-b\n",
    "# Calculate final prices for in-stock products after discount:\n",
    "def calculate_discounted_price(products):\n",
    "    discounted_products = []\n",
    "    for product in products:\n",
    "        name = product['name']\n",
    "        original_price = product['price']\n",
    "        discount_amount = original_price * (product['discount'] / 100)\n",
    "        final_price = original_price - discount_amount\n",
    "        discounted_products.append((name, final_price))\n",
    "    \n",
    "    return discounted_products\n",
    "discounted_prices = calculate_discounted_price(products)\n",
    "print(\"Output:\\nName List Of Products with Discounted Prices:\")\n",
    "for name, price in discounted_prices:\n",
    "    print(f\"{name}: ${price:.2f}\")"
   ]
  },
  {
   "cell_type": "code",
   "execution_count": 281,
   "id": "66c9fdf7-2fb2-4794-8bfd-e274039c2ea2",
   "metadata": {},
   "outputs": [
    {
     "name": "stdout",
     "output_type": "stream",
     "text": [
      "Output:\n",
      "Name List Of Products with Discounted Prices:\n",
      "(('Laptop', 1198.8), ('Smartphone', 799.6), ('Headphones', 149.7), ('Smartwatch', 300.0), ('Keyboard', 99.85))\n"
     ]
    }
   ],
   "source": [
    "#Q-10-c\n",
    "# Generate a list of tuples with the product name and its final price.\n",
    "discounted_prices = tuple(calculate_discounted_price(products))\n",
    "print(\"Output:\\nName List Of Products with Discounted Prices:\")\n",
    "print(discounted_prices)"
   ]
  }
 ],
 "metadata": {
  "kernelspec": {
   "display_name": "Python 3 (ipykernel)",
   "language": "python",
   "name": "python3"
  },
  "language_info": {
   "codemirror_mode": {
    "name": "ipython",
    "version": 3
   },
   "file_extension": ".py",
   "mimetype": "text/x-python",
   "name": "python",
   "nbconvert_exporter": "python",
   "pygments_lexer": "ipython3",
   "version": "3.11.5"
  }
 },
 "nbformat": 4,
 "nbformat_minor": 5
}
