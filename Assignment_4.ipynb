{
 "cells": [
  {
   "cell_type": "markdown",
   "metadata": {},
   "source": [
    "Q-1. my_tuple = ( (1, 2, 3), [4, 5, 6], ('apple', 'banana', 'cherry'), [7, 8, 9] ) \n",
    "• Print all elements from my_tuple on a new line (using for loop) \n",
    "• Create a new tuple by concatenating the first and last elements of my_tuple"
   ]
  },
  {
   "cell_type": "code",
   "execution_count": 18,
   "metadata": {},
   "outputs": [
    {
     "name": "stdout",
     "output_type": "stream",
     "text": [
      "(1, 2, 3)\n",
      "[4, 5, 6]\n",
      "('apple', 'banana', 'cherry')\n",
      "[7, 8, 9]\n",
      "\n",
      "New tuple by concatenating the first and last elements:\n",
      "(1, 2, 3, 7, 8, 9)\n"
     ]
    }
   ],
   "source": [
    "# Q-1  // solved\n",
    "# Print all elements from my_tuple on a new line (using for loop)\n",
    "my_tuple = ( (1, 2, 3), [4, 5, 6], ('apple', 'banana', 'cherry'), [7, 8, 9] ) \n",
    "for item in my_tuple:\n",
    "    print(item)  # prints each item in the tuple\n",
    "\n",
    "#  Create a new tuple by concatenating the first and last elements of my_tuple\n",
    "new_tuple = my_tuple[0] +  tuple(my_tuple[-1])\n",
    "print(\"\\nNew tuple by concatenating the first and last elements:\")\n",
    "print(new_tuple) # prints each item in the tuple"
   ]
  },
  {
   "cell_type": "markdown",
   "metadata": {},
   "source": [
    "Q-2. inventory = { \"The Great Gatsby\": {\"price\": 10.99, \"quantity\": 5}, \"Rich dad poor dad\": {\"price\":\n",
    "8.99, \"quantity\": 8}, \"Harry Potter\": {\"price\": 12.50, \"quantity\": 2}, }\n",
    "• Add a new book in inventory using method and get all book titles using method\n",
    "• Remove a book if it's out of stock"
   ]
  },
  {
   "cell_type": "code",
   "execution_count": null,
   "metadata": {},
   "outputs": [
    {
     "name": "stdout",
     "output_type": "stream",
     "text": [
      "{'The Great Gatsby': {'price': 10.99, 'quantity': 5}, 'Rich dad poor dad': {'price': 8.99, 'quantity': 8}, 'Harry Potter': {'price': 12.5, 'quantity': 0}, 'clem and crab': {'price': 10.2, 'quantity': 7}}\n",
      "\n",
      "Book Titles : ['The Great Gatsby', 'Rich dad poor dad', 'Harry Potter', 'clem and crab']\n",
      "['The Great Gatsby', 'Rich dad poor dad', 'Harry Potter', 'clem and crab']\n",
      "\n",
      "Inventory after removing out-of-stock books: {'The Great Gatsby': {'price': 10.99, 'quantity': 5}, 'Rich dad poor dad': {'price': 8.99, 'quantity': 8}, 'clem and crab': {'price': 10.2, 'quantity': 7}}\n"
     ]
    }
   ],
   "source": [
    "# Q-2   // solved\n",
    "inventory = { \"The Great Gatsby\": {\"price\": 10.99, \"quantity\": 5},\n",
    "              \"Rich dad poor dad\": {\"price\":8.99, \"quantity\": 8},\n",
    "              \"Harry Potter\": {\"price\": 12.50, \"quantity\": 0},\n",
    "             }\n",
    "\n",
    "#  Add a new book in inventory using method \n",
    "inventory.update({\"clem and crab\": {\"price\":10.20 , \"quantity\": 7}})\n",
    "print(inventory)\n",
    "print(\"\")\n",
    "# Get all book titles using method\n",
    "title_keys = inventory.keys()\n",
    "print(\"Book Titles :\", list(title_keys))\n",
    "titles = list(inventory.keys())\n",
    "print(titles)\n",
    "print(\"\")\n",
    "# Remove a book if it's out of stock\n",
    "for title in titles:\n",
    "    if inventory[title][\"quantity\"] == 0:\n",
    "        inventory.pop(title)\n",
    "print(\"Inventory after removing out-of-stock books:\", inventory)"
   ]
  },
  {
   "cell_type": "markdown",
   "metadata": {},
   "source": [
    "Q3. An ecommerce store stores information about its products in a nested dictionary. The outer\n",
    "dictionary uses product IDs as keys, and the inner dictionary stores product details like name,\n",
    "category, price, and stock quantity.\n",
    "products = { 101: {\"name\": \"Laptop\", \"category\": \"Electronics\", \"price\": 1200, \"stock\": 50}, 102:\n",
    "{\"name\": \"Shirt\", \"category\": \"Apparel\", \"price\": 25, \"stock\": 200}, 103: {\"name\": \"Coffee Maker\",\n",
    "\"category\": \"Home Appliances\", \"price\": 80, \"stock\": 30} }\n",
    "• Increase the stock of the \"Shirt\" product (add 50 more units)\n",
    "• Add a new product (e.g., \"Smartphone\")"
   ]
  },
  {
   "cell_type": "code",
   "execution_count": 21,
   "metadata": {},
   "outputs": [
    {
     "name": "stdout",
     "output_type": "stream",
     "text": [
      "{101: {'name': 'Laptop', 'category': 'Electronics', 'price': 1200, 'stock': 50}, 102: {'name': 'Shirt', 'category': 'Apparel', 'price': 25, 'stock': 250}, 103: {'name': 'Coffee Maker', 'category': 'Home Appliances', 'price': 80, 'stock': 30}}\n",
      "\n",
      "{101: {'name': 'Laptop', 'category': 'Electronics', 'price': 1200, 'stock': 50}, 102: {'name': 'Shirt', 'category': 'Apparel', 'price': 25, 'stock': 250}, 103: {'name': 'Coffee Maker', 'category': 'Home Appliances', 'price': 80, 'stock': 30}, 104: {'name': 'Smartphone', 'category': 'Electronics', 'price': 10000, 'stock': 500}, 105: {'name': 'Smartwatches', 'category': 'Electronics', 'price': 20000, 'stock': 300}}\n",
      " \n",
      "Sorry product out of stock\n"
     ]
    }
   ],
   "source": [
    "# Q-3  // solved\n",
    "# e-commerce stores data\n",
    "products = { 101 : {\"name\": \"Laptop\", \"category\": \"Electronics\", \"price\": 1200, \"stock\": 50},\n",
    "             102 : {\"name\": \"Shirt\", \"category\": \"Apparel\", \"price\": 25, \"stock\": 200},\n",
    "             103 : {\"name\": \"Coffee Maker\",\"category\": \"Home Appliances\", \"price\": 80, \"stock\": 30}\n",
    "            }\n",
    "\n",
    "# Increase the stock of the \"Shirt\" product (add 50 more units):\n",
    "products[102][\"stock\"] += 50\n",
    "# products[102][\"price\"] += 50\n",
    "print(products)\n",
    "print(\"\")\n",
    "\n",
    "# Add a new product (e.g., \"Smartphone\"):\n",
    "products[104] = {\"name\": \"Smartphone\", \"category\": \"Electronics\", \"price\": 10000, \"stock\":500}\n",
    "products[105] = {\"name\": \"Smartwatches\", \"category\": \"Electronics\", \"price\": 20000, \"stock\":300}\n",
    "print(products)\n",
    "\n",
    "# product quantity = 0 product out of stock:\n",
    "products[102][\"stock\"] = 0\n",
    "titles = products.keys()\n",
    "for title in titles:\n",
    "    if products[title][\"stock\"] <= 0:\n",
    "        print(\" \\nSorry product out of stock\")\n",
    "\n"
   ]
  },
  {
   "cell_type": "markdown",
   "metadata": {},
   "source": [
    "Q-4. You are given a list that contains some duplicate items. Remove the duplicates by converting the\n",
    "list to a set.\n",
    "shopping_list = [\"apple\", \"banana\", \"apple\", \"orange\", \"banana\", \"grape\"]\n"
   ]
  },
  {
   "cell_type": "code",
   "execution_count": 141,
   "metadata": {},
   "outputs": [
    {
     "name": "stdout",
     "output_type": "stream",
     "text": [
      "{'grape', 'apple', 'banana', 'orange'}\n"
     ]
    }
   ],
   "source": [
    "# Q-4  // solved\n",
    "# Remove the duplicates by converting the list to a set\n",
    "shopping_list = [\"apple\", \"banana\", \"apple\", \"orange\", \"banana\", \"grape\"]\n",
    "unique_shopping_list = set(shopping_list)\n",
    "print(unique_shopping_list) \n",
    "# unique_shopping_list = list(set(shopping_list))\n",
    "# print(unique_shopping_list) \n"
   ]
  },
  {
   "cell_type": "markdown",
   "metadata": {},
   "source": [
    "Q-5. You are managing a list of students enrolled in two different courses.\n",
    " You need to perform various set operations to understand the student enrollment.\n",
    "Task: Create two sets: one for students in \"Course A\" and one for students in \"Course B\".\n",
    "Find the students who are in \"Course A\" but not in \"Course B\" (difference). \n",
    "Find students who are only in one of the two courses (symmetric difference). \n",
    "course_a = {\"John\", \"Alice\", \"Bob\", \"David\"}\n",
    "course_b = {\"Alice\", \"Eve\", \"Charlie\",\"David\"}\n",
    "• Find students who are in Course A but not in Course B (difference)\n",
    "• Find students who are only in one of the two courses (symmetric difference)"
   ]
  },
  {
   "cell_type": "code",
   "execution_count": 142,
   "metadata": {},
   "outputs": [
    {
     "name": "stdout",
     "output_type": "stream",
     "text": [
      "students_only_in_course A : {'Bob', 'John'}\n"
     ]
    }
   ],
   "source": [
    "# Q-5 // solved\n",
    "# Find students who are in Course A but not in Course B (difference)\n",
    "course_a = {\"John\", \"Alice\", \"Bob\", \"David\"}\n",
    "course_b = {\"Alice\", \"Eve\", \"Charlie\",\"David\"}\n",
    "students_only_courseA = course_a.difference(course_b)\n",
    "print(f\"students_only_in_course A : {students_only_courseA}\")"
   ]
  },
  {
   "cell_type": "code",
   "execution_count": 12,
   "metadata": {},
   "outputs": [
    {
     "name": "stdout",
     "output_type": "stream",
     "text": [
      "students_only_in_course A : {'John', 'Bob'}\n",
      "students_only_in_course B : {'Charlie', 'Eve'}\n",
      "{'Charlie', 'John', 'Bob', 'Eve'}\n"
     ]
    }
   ],
   "source": [
    "# Find students who are only in one of the two courses (symmetric difference)\n",
    "students_only_courseA = course_a.difference(course_b)\n",
    "print(f\"students_only_in_course A : {students_only_courseA}\")\n",
    "\n",
    "students_only_courseB = course_b.difference(course_a)\n",
    "print(f\"students_only_in_course B : {students_only_courseB}\")\n",
    "\n",
    "symmetric_course_union  = students_only_courseA | students_only_courseB\n",
    "print(symmetric_course_union)\n",
    "\n",
    "# symmetric_course_union = students_only_courseA.union(students_only_courseB)\n",
    "# print(symmetric_course_union)"
   ]
  },
  {
   "cell_type": "markdown",
   "metadata": {},
   "source": [
    "Q-6. Write a Python program that calculates the sum of all even numbers between 1 and 50\n",
    "(inclusive) using a for loop.\n",
    "Hint\n",
    "1. Initialize a variable to hold the sum (e.g., sum_of_evens).\n",
    "2. Use a for loop to iterate through all numbers from 1 to 50.\n",
    "3. Inside the loop, check if the number is even.\n",
    "4. If the number is even, add it to sum_of_evens.\n",
    "5. After the loop finishes, print the total sum of all even numbers between 1 and 50."
   ]
  },
  {
   "cell_type": "code",
   "execution_count": 1,
   "metadata": {},
   "outputs": [
    {
     "name": "stdout",
     "output_type": "stream",
     "text": [
      "The sum of all even numbers between 1 and 50 is: 2\n",
      "The sum of all even numbers between 1 and 50 is: 6\n",
      "The sum of all even numbers between 1 and 50 is: 12\n",
      "The sum of all even numbers between 1 and 50 is: 20\n",
      "The sum of all even numbers between 1 and 50 is: 30\n",
      "The sum of all even numbers between 1 and 50 is: 42\n",
      "The sum of all even numbers between 1 and 50 is: 56\n",
      "The sum of all even numbers between 1 and 50 is: 72\n",
      "The sum of all even numbers between 1 and 50 is: 90\n",
      "The sum of all even numbers between 1 and 50 is: 110\n",
      "The sum of all even numbers between 1 and 50 is: 132\n",
      "The sum of all even numbers between 1 and 50 is: 156\n",
      "The sum of all even numbers between 1 and 50 is: 182\n",
      "The sum of all even numbers between 1 and 50 is: 210\n",
      "The sum of all even numbers between 1 and 50 is: 240\n",
      "The sum of all even numbers between 1 and 50 is: 272\n",
      "The sum of all even numbers between 1 and 50 is: 306\n",
      "The sum of all even numbers between 1 and 50 is: 342\n",
      "The sum of all even numbers between 1 and 50 is: 380\n",
      "The sum of all even numbers between 1 and 50 is: 420\n",
      "The sum of all even numbers between 1 and 50 is: 462\n",
      "The sum of all even numbers between 1 and 50 is: 506\n",
      "The sum of all even numbers between 1 and 50 is: 552\n",
      "The sum of all even numbers between 1 and 50 is: 600\n",
      "The sum of all even numbers between 1 and 50 is: 650\n"
     ]
    }
   ],
   "source": [
    "#  Q-6.  calculates the sum of all even numbers between 1 and 50\n",
    "sum_of_all_even_numbers = 0\n",
    "for number in range(1, 51):\n",
    "    if number % 2 == 0:\n",
    "         sum_of_all_even_numbers += number\n",
    "         print(\"The sum of all even numbers between 1 and 50 is:\", sum_of_all_even_numbers)"
   ]
  },
  {
   "cell_type": "markdown",
   "metadata": {},
   "source": [
    "Q-7. Write a Python program that prints the multiplication table for a given number (between 1 and 10) using a for loop.\n",
    "\n",
    "Hint:\n",
    "1. Ask the user for a number between 1 and 10 .\n",
    "2. Use a for loop to iterate through the numbers from 1 to 10.\n",
    "3. For each iteration, calculate the product of the given number and the current number in the\n",
    "loop.\n",
    "4. Print the result in a readable format (e.g., 5 x 1 = 5).\n",
    "5. Ensure the program works correctly for any number between 1 and 10.\n",
    "Output Hint:\n",
    "4 x 1 = 4\n",
    "4 x 2 = 8\n",
    "4 x 3 = 12\n",
    "4 x 4 = 16\n",
    "4 x 5 = 20\n",
    "4 x 6 = 24\n",
    "4 x 7 = 28\n",
    "4 x 8 = 32\n",
    "4 x 9 = 36\n",
    "4 x 10 = 40"
   ]
  },
  {
   "cell_type": "code",
   "execution_count": null,
   "metadata": {},
   "outputs": [
    {
     "name": "stdout",
     "output_type": "stream",
     "text": [
      "3 x 1 = 3\n",
      "3 x 2 = 6\n",
      "3 x 3 = 9\n",
      "3 x 4 = 12\n",
      "3 x 5 = 15\n",
      "3 x 6 = 18\n",
      "3 x 7 = 21\n",
      "3 x 8 = 24\n",
      "3 x 9 = 27\n",
      "3 x 10 = 30\n"
     ]
    }
   ],
   "source": [
    "#  Q-7   // solved\n",
    "# get a number input from the user\n",
    "number = int(input(\"Enter a number between 1 and 10: \"))\n",
    "\n",
    "# Check if the number is within the valid range\n",
    "if 1 <= number <= 10:\n",
    "    # Use a for loop to generate the multiplication table\n",
    "    for i in range(1, 11):\n",
    "        product = number * i  # Calculate the product\n",
    "        print(f\"{number} x {i} = {product}\")  # Print the result\n",
    "else:\n",
    "    print(\"Please enter a valid number between 1 and 10.\")\n",
    "    "
   ]
  },
  {
   "cell_type": "markdown",
   "metadata": {},
   "source": [
    "Q-8. Power of a Number\n",
    "Write a Python program that takes a number and prints the powers of the number \n",
    "(starting from 1 to 10) using a while loop.\n",
    "For example, if the user inputs 3, the output should be:\n",
    "3^1 = 3\n",
    "3^2 = 9\n",
    "3^3 = 27\n",
    "... up to 3^10."
   ]
  },
  {
   "cell_type": "code",
   "execution_count": 87,
   "metadata": {},
   "outputs": [
    {
     "name": "stdout",
     "output_type": "stream",
     "text": [
      "3^1 = 3\n",
      "3^2 = 9\n",
      "3^3 = 27\n",
      "3^4 = 81\n",
      "3^5 = 243\n",
      "3^6 = 729\n",
      "3^7 = 2187\n",
      "3^8 = 6561\n",
      "3^9 = 19683\n",
      "3^10 = 59049\n"
     ]
    }
   ],
   "source": [
    "# Q-8    // solved\n",
    "\n",
    "# Take a number input from the user\n",
    "number = int(input(\"Enter a number: \"))\n",
    "\n",
    "# Initialize the power variable\n",
    "power = 1\n",
    "\n",
    "# Use a while loop to calculate and print powers from 1 to 10\n",
    "while power <= 10:\n",
    "    result = number ** power  # Calculate the power\n",
    "    print(f\"{number}^{power} = {result}\")  # Print the result\n",
    "    power += 1  # Increment the power"
   ]
  },
  {
   "cell_type": "markdown",
   "metadata": {},
   "source": [
    "Q-9. Problem Statement:\n",
    "Write a Python program that takes an integer input from the user and counts down from that number to 0.\n",
    "The program should display the current number at each step until it reaches 0, \n",
    "at which point it should print a message indicating the countdown is finished\n",
    "Output Hint:\n",
    "Enter a number to start the countdown: 3\n",
    "3\n",
    "2\n",
    "1\n",
    "0\n",
    "Countdown finished!"
   ]
  },
  {
   "cell_type": "code",
   "execution_count": null,
   "metadata": {},
   "outputs": [
    {
     "name": "stdout",
     "output_type": "stream",
     "text": [
      "4\n",
      "3\n",
      "2\n",
      "1\n",
      "0\n",
      "finally finished countdown...\n"
     ]
    }
   ],
   "source": [
    "# Q-9   // solved\n",
    "# an integer input from the user\n",
    "import time\n",
    "num = int(input(\"Enter a number: \"))\n",
    "while num >= 0:\n",
    "        print(num)\n",
    "        time.sleep(1)  # Pause for 1 second\n",
    "        num -= 1\n",
    "print(\"finally finished countdown...\")\n"
   ]
  },
  {
   "cell_type": "markdown",
   "metadata": {},
   "source": [
    "Q-10. Write a Python program that takes an integer input n from the user and generates a right-\n",
    "angled triangle pattern of stars (*) with n rows. The first row should contain 1 star, the second row 2\n",
    "stars, the third row 3 stars, and so on until the nth row.\n",
    "Ensure the stars in each row are separated by spaces, and each row starts on a new line.\n",
    "# Pattern:\n",
    "*\n",
    "**\n",
    "***\n",
    "****\n",
    "*****"
   ]
  },
  {
   "cell_type": "code",
   "execution_count": 4,
   "metadata": {},
   "outputs": [
    {
     "name": "stdout",
     "output_type": "stream",
     "text": [
      "* \n",
      "* * \n",
      "* * * \n",
      "* * * * \n",
      "* * * * * \n",
      "* * * * * * \n"
     ]
    }
   ],
   "source": [
    "# Q-10   // solved\n",
    "# Take an integer input from the user\n",
    "n = int(input(\"Enter the number of rows for the triangle: \"))\n",
    "num = n + 1\n",
    "# Generate the triangle pattern\n",
    "for i in range(1, num):\n",
    "    # Print i stars, separated by spaces\n",
    "    print('* ' * i)"
   ]
  }
 ],
 "metadata": {
  "kernelspec": {
   "display_name": "Python 3",
   "language": "python",
   "name": "python3"
  },
  "language_info": {
   "codemirror_mode": {
    "name": "ipython",
    "version": 3
   },
   "file_extension": ".py",
   "mimetype": "text/x-python",
   "name": "python",
   "nbconvert_exporter": "python",
   "pygments_lexer": "ipython3",
   "version": "3.11.5"
  }
 },
 "nbformat": 4,
 "nbformat_minor": 2
}
