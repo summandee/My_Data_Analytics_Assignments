{
  "nbformat": 4,
  "nbformat_minor": 0,
  "metadata": {
    "colab": {
      "provenance": [],
      "authorship_tag": "ABX9TyNmOLzGL49btWL9TGWxyKX5",
      "include_colab_link": true
    },
    "kernelspec": {
      "name": "python3",
      "display_name": "Python 3"
    },
    "language_info": {
      "name": "python"
    }
  },
  "cells": [
    {
      "cell_type": "markdown",
      "metadata": {
        "id": "view-in-github",
        "colab_type": "text"
      },
      "source": [
        "<a href=\"https://colab.research.google.com/github/summandee/My_Data_Analytics_Assignments/blob/main/Assignment_3.ipynb\" target=\"_parent\"><img src=\"https://colab.research.google.com/assets/colab-badge.svg\" alt=\"Open In Colab\"/></a>"
      ]
    },
    {
      "cell_type": "markdown",
      "source": [
        "Q1. Write program to check a person’s eligibility for a loan based on age, credit score, and income. This time, the\n",
        "eligibility criteria will be:\n",
        "The person must be 18 years or older. The person must have a credit score of 650 or higher. The person must have an annual income of at least 30000 dollars If the person has a credit score of 700 or higher, they may still be eligible with an income of 25000 dollars or more\n"
      ],
      "metadata": {
        "id": "kwCEdasGwccs"
      }
    },
    {
      "cell_type": "code",
      "source": [
        "age = int(input(\"Enter the person's age\"))\n",
        "credit_score = int(input(\"Enter the person's credit score\"))\n",
        "annual_income = int(input(\"Enter the person's  monthly income\"))\n",
        "\n",
        "if (age >= 18 or age <= 25) and (credit_score >= 650 or credit_score >= 700) and (annual_income == 30000 or annual_income >= 25000  ):\n",
        "    print(\"Eligible for loan\")\n",
        "else:\n",
        "    print(\"Not Eligible for loan\")"
      ],
      "metadata": {
        "colab": {
          "base_uri": "https://localhost:8080/"
        },
        "id": "ZuquRgEV3peP",
        "outputId": "1732dc77-9438-4072-8356-d3cac133fe09"
      },
      "execution_count": 2,
      "outputs": [
        {
          "output_type": "stream",
          "name": "stdout",
          "text": [
            "Enter the person's age13\n",
            "Enter the person's credit score400\n",
            "Enter the person's  monthly income3499\n",
            "Not Eligible for loan\n"
          ]
        }
      ]
    }
  ]
}