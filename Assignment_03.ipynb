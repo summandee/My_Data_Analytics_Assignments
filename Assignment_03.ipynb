{
 "cells": [
  {
   "cell_type": "markdown",
   "metadata": {},
   "source": [
    " Q1. Write program to check a person’s eligibility for a loan based on age, credit score, and income.\n",
    " This time, the eligibility criteria will be:\n",
    " The person must be 18 years or older. \n",
    " The person must have a credit score of 650 or higher. \n",
    " The person must have an annual income of at least 30000 dollars \n",
    " If the person has a credit score of 700 or higher, \n",
    " they may still be eligible with an income of 25000 dollars or more"
   ]
  },
  {
   "cell_type": "code",
   "execution_count": 5,
   "metadata": {},
   "outputs": [
    {
     "name": "stdout",
     "output_type": "stream",
     "text": [
      "Not Eligible for loan\n"
     ]
    }
   ],
   "source": [
    "age = int(input(\"Enter the person's age : \")) \n",
    "if (age < 18 or age > 65 ):\n",
    "    print(\"Please enter Correct age.\")\n",
    "else:\n",
    "    credit_score = int(input(\"Enter the person's credit score : \"))\n",
    "    annual_income = int(input(\"Enter the person's  monthly income : \"))\n",
    "    if (credit_score >= 650 or credit_score >= 700) and (annual_income == 30000 or annual_income >= 25000  ):\n",
    "        print(\"Eligible for loan\")\n",
    "    else:\n",
    "        print(\"Not Eligible for loan\")"
   ]
  },
  {
   "cell_type": "markdown",
   "metadata": {},
   "source": [
    " Q2. Write a Python program that checks if a person is an adult (age ≥ 18).\n",
    " Take the age as input.\n",
    " If the person is underage (age < 18), show message: \"You are underage\" and don't ask for experience.\n",
    " If the person is an adult, take years of experience as input and print:\n",
    " \"You have a lot of experience.\" (10+ years)\n",
    " \"You have moderate experience.\" (5-9 years)\n",
    " \"You are relatively new.\" (2-4 years)\n",
    " \"You are just starting out.\" (less than 2 years) "
   ]
  },
  {
   "cell_type": "code",
   "execution_count": 4,
   "metadata": {},
   "outputs": [
    {
     "name": "stdout",
     "output_type": "stream",
     "text": [
      "You are relatively new.\n"
     ]
    }
   ],
   "source": [
    "# Get the person's age and experience\n",
    "age = int(input(\"Enter the person's age: \"))\n",
    "# Check the conditions and print the appropriate message\n",
    "if age < 18:\n",
    "    print(\"You are underage and don't ask for experience.\")\n",
    "else:\n",
    "    x = experience = int(input(\"Enter the person's experience: \"))\n",
    "    if (10 == x <= 15):\n",
    "      print(\"You have a lot of experience.\")\n",
    "    elif (5 <= x <= 9):\n",
    "        print(\"You have moderate experience.\")\n",
    "    elif (2 <= x <= 4):\n",
    "        print(\"You are relatively new.\")\n",
    "    elif (x < 2):\n",
    "        print(\"You are just starting out.\")\n",
    "    else:\n",
    "        print(\"x level not categorized.\")"
   ]
  },
  {
   "cell_type": "markdown",
   "metadata": {},
   "source": [
    " Q-3.\n",
    " a) Print their memory address (to check if python assigns same address of different variables having same element)\n",
    " Variables with the same value\n",
    " b) Find memory size and append them in a list, use this list to find data type having least memory size\n",
    " c) Print final name of data type which has lowest memory\n",
    " b) Find memory size and append them in a list, use this list to find data type having least memory size\n",
    " c) Print final name of data type which has lowest memory"
   ]
  },
  {
   "cell_type": "code",
   "execution_count": null,
   "metadata": {},
   "outputs": [],
   "source": [
    "a = 100\n",
    "b = 100\n",
    "c = \"hello\"\n",
    "d = \"hello\"\n",
    "\n",
    "# Print memory addresses\n",
    "print(f\"Memory address of a (100) : {id(a)}\")\n",
    "print(f\"Memory address of a (100): {id(a)}\")\n",
    "print(f\"Memory address of b (100): {id(b)}\")\n",
    "print(f\"Memory address of c ('hello'): {id(c)}\")\n",
    "print(f\"Memory address of d ('hello'): {id(d)}\")\n",
    "\n",
    "#extra variables to explore different values\n",
    "e = 200\n",
    "f = 200\n",
    "print(f\"Memory address of e (200): {id(e)}\")\n",
    "print(f\"Memory address of f (200): {id(f)}\")\n",
    "######*******************************************"
   ]
  },
  {
   "cell_type": "code",
   "execution_count": null,
   "metadata": {},
   "outputs": [],
   "source": [
    "# continue Q-3\n",
    "import sys\n",
    "memory_size_list = []\n",
    "variable_list = []\n",
    "# Define variables\n",
    "x = 100                            # Integer\n",
    "memory_size_x = sys.getsizeof(x)\n",
    "memory_size_list.append(memory_size_x )\n",
    "variable_list.append(x)\n",
    "\n",
    "y = 3.14                           # Float\n",
    "memory_size_y = sys.getsizeof(y)\n",
    "memory_size_list.append(memory_size_y )\n",
    "variable_list.append(y)\n",
    "\n",
    "\n",
    "z = \"hello\"                        # String\n",
    "memory_size_z = sys.getsizeof(z)\n",
    "memory_size_list.append(memory_size_z )\n",
    "variable_list.append(z)\n",
    "\n",
    "\n",
    "a = [1, 2, 3]                     # List\n",
    "memory_size_a = sys.getsizeof(a)\n",
    "memory_size_list.append(memory_size_a )\n",
    "variable_list.append(a)\n",
    "\n",
    "k = (1, 2, 3)                     # Tuple\n",
    "memory_size_b = sys.getsizeof(k)\n",
    "memory_size_list.append(memory_size_b )\n",
    "variable_list.append(k)\n",
    "\n",
    "m = {\"key\": \"value\"}              # Dictionary\n",
    "memory_size_c = sys.getsizeof(m)\n",
    "memory_size_list.append(memory_size_c )\n",
    "variable_list.append(m)\n",
    "\n",
    "n = True                           # Boolean\n",
    "memory_size_d = sys.getsizeof(n)\n",
    "memory_size_list.append(memory_size_d )\n",
    "variable_list.append(n)\n",
    "\n",
    "e = None                           # NoneType\n",
    "memory_size_e = sys.getsizeof(e)\n",
    "memory_size_list.append(memory_size_e )\n",
    "variable_list.append(e)\n",
    "\n",
    "# Print memory size list\n",
    "print(f\"Memory size : {memory_size_list} bytes\")\n",
    "# Find the data type with the least memory size\n",
    "min_size_index = memory_size_list.index(min(memory_size_list))\n",
    "print(f\"min size index : {min_size_index}\")\n",
    "least_memory_variable = memory_size_list[min_size_index]\n",
    "print(variable_list)\n",
    "\n",
    "least_memory_size = memory_size_list[min_size_index]\n",
    "print(f\"least memory size : {least_memory_size}\")\n",
    "print(f\"least memory variable : {variable_list[7]}\")\n",
    "print(min_size_index )"
   ]
  },
  {
   "cell_type": "markdown",
   "metadata": {},
   "source": [
    "Q4. Write a Python program that asks the user to enter an email address. The program should check if the email\n",
    "contains the characters @ and \".\"(ignoring case). If either character is present, print \"Email format isvalid.\"\n",
    "Otherwise, print \"Invalid email format.\""
   ]
  },
  {
   "cell_type": "code",
   "execution_count": null,
   "metadata": {},
   "outputs": [],
   "source": [
    "# Prompt the user to enter an email address\n",
    "email = input(\"Enter your email address: \").strip().lower() \n",
    "\n",
    "# Check for '@' and '.' in the email (ignoring case)\n",
    "if '@' in email and '.' in email:\n",
    "    print(\"Email format is valid.\")\n",
    "else:\n",
    "    print(\"Invalid email format.\")"
   ]
  },
  {
   "cell_type": "markdown",
   "metadata": {},
   "source": [
    "Q5. Write a python program to know data type of each element stored in a tuple, append the data types in a list.\n",
    " Show final output in a list as data types of tuple elements\n",
    " x = (11,22.333,'apple',[1,2,3],('a','b'))"
   ]
  },
  {
   "cell_type": "code",
   "execution_count": null,
   "metadata": {},
   "outputs": [],
   "source": [
    "# Given tuple\n",
    "x = (11, 22.333, 'apple', [1, 2, 3], ('a', 'b'))\n",
    "# Simple Method:\n",
    "# List to store data types\n",
    "data_types = []\n",
    "# Iterate through each element in the tuple and append its data type to the list\n",
    "data_types.append(type(x[0]).__name__)\n",
    "data_types.append(type(x[1]).__name__)\n",
    "data_types.append(type(x[2]).__name__)\n",
    "data_types.append(type(x[3]).__name__)\n",
    "data_types.append(type(x[4]).__name__)\n",
    "print(\"Data types of tuple elements:\", data_types)"
   ]
  },
  {
   "cell_type": "code",
   "execution_count": 6,
   "metadata": {},
   "outputs": [
    {
     "name": "stdout",
     "output_type": "stream",
     "text": [
      "Data types of tuple elements: ['int', 'float', 'str', 'list', 'tuple', 'int']\n"
     ]
    }
   ],
   "source": [
    "## By Loop:\n",
    "# Given tuple\n",
    "x = (11, 22.333, 'apple', [1, 2, 3], ('a', 'b'))\n",
    "\n",
    "# List to store data types\n",
    "data_types = []\n",
    "\n",
    "# Iterate through each element in the tuple and append its data type to the list\n",
    "for element in x:\n",
    "    data_types.append(type(element).__name__)\n",
    "data_types.append(type(x[0]).__name__)\n",
    "# Display the final list of data types\n",
    "print(\"Data types of tuple elements:\", data_types)"
   ]
  },
  {
   "cell_type": "markdown",
   "metadata": {},
   "source": [
    "  Q6. Write a Python program that:\n",
    "  Checks if a given username exists in a list of active users.\n",
    "  Verifies if the user is the admin using identity operators.\n",
    "  Hints:\n",
    "  Use a list of tuples where each tuple contains a username and role\n",
    "  [(\"alice\", \"admin\"),\n",
    "  (\"bob\", \"user\"),\n",
    "  (\"charlie\", \"moderator\")]\n",
    "  Use the in operator to check if the username exists in the list.\n",
    "  Use the is operator to check if the user is the admin (admin is a specific reference, e.g., (\"alice\", \"admin\")).\n",
    "  Check if the username exists and determine the role\n",
    "  user_tuple_list = next((user for user in active_users if user[0] == username), None)  "
   ]
  },
  {
   "cell_type": "code",
   "execution_count": null,
   "metadata": {},
   "outputs": [],
   "source": [
    "user_tuple_list = [\n",
    "    (\"alice\", \"admin\"),\n",
    "    (\"bob\", \"user\"),\n",
    "    (\"charlie\", \"moderator\"),\n",
    "    (\"taj\", \"user\"),\n",
    "    (\"naheed\", \"user\"),\n",
    "    (\"areeba\", \"moderator\")\n",
    "]\n",
    "\n",
    "user_name = input(\"Enter the username : \")\n",
    "if (user_name in user_tuple_list[0]):\n",
    "    print(\"User exists\")\n",
    "# # Verify if the user is the admin\n",
    "if user_name in user_tuple_list[0]:\n",
    "    print(\"user is admin\")\n",
    "elif user_name in user_tuple_list[1]:\n",
    "    print(\"user is user\")\n",
    "elif user_name in user_tuple_list[2]:\n",
    "    print(\"user is moderator\")\n",
    "else:\n",
    "  print(\"user is not exist\")"
   ]
  },
  {
   "cell_type": "markdown",
   "metadata": {},
   "source": [
    "   Q7. person1 has same family as of person2, write a program to print relation between person1 and  person2, if their\n",
    "  data is [father-name, mother-name, district, family-number] same (Print relation 'Siblings') also check person1 data with person3 which is cousin of person1 (Print relation 'Cousin')\n",
    " Hint:\n",
    " Use identity operator"
   ]
  },
  {
   "cell_type": "code",
   "execution_count": null,
   "metadata": {},
   "outputs": [],
   "source": [
    "# Data for each person\n",
    "person1 = ['John', 'Jane', 'Springfield', '123']\n",
    "person2 = ['John', 'Jane', 'Springfield', '123']\n",
    "person3 = ['Mike', 'Mary', 'Springfield', '456']\n",
    "\n",
    "# is checks for the same object in memory.\n",
    "# == checks for equal content.\n",
    "\n",
    "# Check if person1 and person2 are siblings (using identity)\n",
    "# Assign person1 to person2 (now they refer to the same object)\n",
    "# Check identity\n",
    "print(person1 is person2)  # Output: False (different objects)\n",
    "# person1 is person2 ## This will be False\n",
    "person2 = person1\n",
    "if person1 is person2:  # This will be False since they are different objects\n",
    "    print(\"Relation: Siblings\")\n",
    "else:\n",
    "    print(\"Relation: Not siblings\")\n",
    "    \n",
    "# Check if person1 and person3 are cousins (using identity)\n",
    "person1 = person3\n",
    "if person1 is person3:  # This will also be False\n",
    "    print(\"Relation: Cousin\")\n",
    "else:\n",
    "    print(\"Relation: Not Cousin\")"
   ]
  },
  {
   "cell_type": "markdown",
   "metadata": {},
   "source": [
    " Q8. Write a Python program to store and display a books title, author, year of publication, and price using a tuple.\n",
    " Instructions:\n",
    " Create a tuple to store the book details.\n",
    " Ask the user for the books title, author, year, and price.\n",
    " Display the stored book information."
   ]
  },
  {
   "cell_type": "code",
   "execution_count": null,
   "metadata": {},
   "outputs": [],
   "source": [
    "# Prompt the user for book details\n",
    "title = input(\"Enter the book title: \")\n",
    "author = input(\"Enter the author's name: \")\n",
    "year = input(\"Enter the year of publication: \")\n",
    "price = float(input(\"Enter the price of the book: \"))\n",
    "\n",
    "# Create a tuple to store the book details\n",
    "book_details = (title, author, year, price)\n",
    "\n",
    "# Display the stored book information\n",
    "print(\"\\nStored Book Information:\")\n",
    "print(f\"Title: {book_details[0]}\")\n",
    "print(f\"Author: {book_details[1]}\")\n",
    "print(f\"Year of Publication: {book_details[2]}\")\n",
    "print(f\"Price: ${book_details[3]:.2f}\")"
   ]
  },
  {
   "cell_type": "code",
   "execution_count": null,
   "metadata": {},
   "outputs": [],
   "source": [
    "##  Q9. Write a program to check if a user’s chosen subject is available in the list of offered subjects.\n",
    "##  Instructions:\n",
    "##  Given a list of subjects, ask the user to input a subject.\n",
    "##  Display whether the subject is available or not.\n",
    "subject_list = [\"mathematic\", \"chemistry\", \"physics\", \"biology\", \"arabic\", \"english\" ]\n",
    "subject = input(\"Enter the subject\").lower()\n",
    "if subject in subject_list:\n",
    "   print(\"Subject is available\")\n",
    "else:\n",
    "    print(\"Subject is not available\")"
   ]
  },
  {
   "cell_type": "markdown",
   "metadata": {},
   "source": [
    "Q10. Write a Python program that performs the following tasks using tuple methods\n",
    "Create a tuple with multiple integer values, including duplicates.\n",
    "Prompt the user to input a number and find the index of its first occurrence in the tuple.\n",
    "Ask the user for another number and count how many times it appears in the tuple.\n",
    "Display appropriate messages based on the results"
   ]
  },
  {
   "cell_type": "code",
   "execution_count": null,
   "metadata": {},
   "outputs": [],
   "source": [
    "number_tuple = (1,2,3,4,2,5,3,6,7,5,8)\n",
    "# Prompt the user to input a number and find the index of its first occurrence\n",
    "first_number = int(input(\"Enter a number to find its first occurrence: \"))\n",
    "\n",
    "\n",
    "if first_number in number_tuple:\n",
    "    index_no = number_tuple.index(first_number)\n",
    "    print(f\"The first occurrence of {first_number} is at index {index_no}.\")\n",
    "else:\n",
    "    print(f\"{first_number} is not in the tuple.\")\n",
    "# Ask the user for another number and count how many times it appears in the tuple\n",
    "second_number = int(input(\"Enter another number to count its occurrences: \"))\n",
    "count = number_tuple.count(second_number)\n",
    "\n",
    "# Display the count of occurrences\n",
    "if (count > 0 ):\n",
    "    print(f\"{second_number} appears {count} times in the tuple.\")\n",
    "else:\n",
    "    print(f\"{second_number} does not appear in the tuple.\")\n",
    "   #**************************************\n",
    "number_tuple = (1,2,3,4,2,5,3,6,7,5,8)\n",
    "index_of_2 = number_tuple.index(first_number)\n",
    "print(index_of_2)  # Output: 1 (the first occurrence of 20)\n"
   ]
  },
  {
   "cell_type": "markdown",
   "metadata": {},
   "source": [
    "*****************   Question for Hard working learners (Not Mandatory)   ********************\n"
   ]
  },
  {
   "cell_type": "code",
   "execution_count": null,
   "metadata": {},
   "outputs": [],
   "source": [
    "# Get the current temperature from the user\n",
    "current_temperature = float(input(\"Enter the current temperature in Celsius: \"))\n",
    "\n",
    "# Define the predefined temperature values\n",
    "freezing_point = -5\n",
    "normal_point = 25\n",
    "hot_point = 40\n",
    "\n",
    "# Check the temperature category\n",
    "if current_temperature <= freezing_point:\n",
    "    print(\"It's freezing.\")\n",
    "elif freezing_point < current_temperature < normal_point:\n",
    "    print(\"The temperature is normal.\")\n",
    "elif normal_point <= current_temperature < hot_point:\n",
    "    print(\"It's warm, a normal temperature.\")\n",
    "else:  # temperature >= hot_point\n",
    "    print(\"It's hot.\")"
   ]
  }
 ],
 "metadata": {
  "kernelspec": {
   "display_name": "Python 3",
   "language": "python",
   "name": "python3"
  },
  "language_info": {
   "codemirror_mode": {
    "name": "ipython",
    "version": 3
   },
   "file_extension": ".py",
   "mimetype": "text/x-python",
   "name": "python",
   "nbconvert_exporter": "python",
   "pygments_lexer": "ipython3",
   "version": "3.11.5"
  }
 },
 "nbformat": 4,
 "nbformat_minor": 2
}
