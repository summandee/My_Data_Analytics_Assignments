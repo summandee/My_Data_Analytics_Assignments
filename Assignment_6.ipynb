{
 "cells": [
  {
   "cell_type": "markdown",
   "metadata": {},
   "source": [
    "Question 1:\n",
    "In a transportation system, we have two classes:\n",
    " ElectricVehicle:\n",
    "      A class that has a method charge() to charge the vehicle.\n",
    " GasolineVehicle:\n",
    "      A class that has a method fuel_up() to refuel the vehicle.\n",
    "Create a class HybridCar that inherits from both ElectricVehicle and GasolineVehicle.\n",
    "The HybridCar class should have a method drive() that prints a message showing the car is being driven.\n",
    "Instantiate an object of class HybridCar and demonstrate the usage of charge(), fuel_up(), and drive().\n",
    "Expected Output:  Charging the electric vehicle.\n",
    " Filling up the gasoline tank.\n",
    " Driving the hybrid car."
   ]
  },
  {
   "cell_type": "code",
   "execution_count": 2,
   "metadata": {},
   "outputs": [
    {
     "name": "stdout",
     "output_type": "stream",
     "text": [
      "Charging the electric vehicle.\n",
      "Filling up the gasoline tank.\n",
      "Driving the hybrid car.\n"
     ]
    }
   ],
   "source": [
    "# Question 1:\n",
    "class  ElectricVehicle:\n",
    "   def  charge(self):\n",
    "       print(\"Charging the electric vehicle.\")\n",
    "class  GasolineVehicle:\n",
    "  def fuel_up(self):\n",
    "      print(\"Filling up the gasoline tank.\")\n",
    "class HybridCar(ElectricVehicle, GasolineVehicle):\n",
    "  def  drive(self):\n",
    "     print(\"Driving the hybrid car.\")\n",
    "car = HybridCar()\n",
    "car.charge()\n",
    "car.fuel_up()\n",
    "car.drive()"
   ]
  },
  {
   "cell_type": "markdown",
   "metadata": {},
   "source": [
    "Question 2:\n",
    "Create a class Animal with a method make_sound(), which prints \"Animal makes a sound\". \n",
    "Then, create two subclasses:\n",
    " Lion: Override the make_sound() method to print \"Roar\".\n",
    " Cat: Override the make_sound() method to print \"Meow\".\n",
    "Demonstrate polymorphism by calling make_sound() on instances of Lion and Cat."
   ]
  },
  {
   "cell_type": "code",
   "execution_count": 3,
   "metadata": {},
   "outputs": [
    {
     "name": "stdout",
     "output_type": "stream",
     "text": [
      "**********\n",
      "The Lion Roar\n",
      "The cat meows.\n",
      "The animal makes a sound.\n"
     ]
    }
   ],
   "source": [
    "# Question 2:\n",
    "# Demonstrate polymorphism by calling make_sound() on instances of Lion and Cat.\n",
    "class Animal:\n",
    "   def  make_sound(self):\n",
    "    print(\"The animal makes a sound.\")\n",
    "class Lion(Animal):\n",
    "  def  make_sound(self):\n",
    "    print(\"The Lion Roar\")\n",
    "class Cat(Animal):\n",
    "  def  make_sound(self):\n",
    "    print(\"The cat meows.\")\n",
    "lion = Lion()\n",
    "cat = Cat()\n",
    "print(\"**********\")\n",
    "lion.make_sound()\n",
    "cat.make_sound()\n",
    "animal = Animal()\n",
    "animal.make_sound()"
   ]
  },
  {
   "cell_type": "markdown",
   "metadata": {},
   "source": [
    "Question 3:\n",
    "Create an abstract class SmartHomeDevice with two abstract methods:  turn_on() (to turn the device on)  turn_off() (to turn the device off)\n",
    "Then, create a Light class that inherits from SmartHomeDevice. Implement the methods turn_on() \n",
    "and turn_off() for a light device. The turn_on() method should print \"Light is ON\", and the turn_off() \n",
    "method should print \"Light is OFF\".\n",
    "Write a Python program to control the light device in a smart home.\n",
    "Expected Output:\n",
    " Turning on the light... \n",
    " Light is ON\n",
    " Turning off the light... \n",
    " Light is OFF"
   ]
  },
  {
   "cell_type": "code",
   "execution_count": 4,
   "metadata": {},
   "outputs": [
    {
     "name": "stdout",
     "output_type": "stream",
     "text": [
      "Turning on the light...\n",
      "Light is ON.\n",
      "urning off the light...\n",
      "Light is OFF.\n"
     ]
    }
   ],
   "source": [
    "# Question 3:\n",
    "#Create an abstract class SmartHomeDevice with two abstract methods:\n",
    "class SmartHomeDevice:\n",
    "  def turn_on(self):\n",
    "    print(\"Turning on the light...\")\n",
    "  def turn_off(self):\n",
    "    print(\"urning off the light...\")\n",
    "class  Light:\n",
    "  def turn_on(self):\n",
    "    print(\"Light is ON.\")\n",
    "  def turn_off(self):\n",
    "    print(\"Light is OFF.\")\n",
    "light = Light()\n",
    "smart_device = SmartHomeDevice()\n",
    "smart_device.turn_on()\n",
    "light.turn_on()\n",
    "\n",
    "smart_device.turn_off()\n",
    "light.turn_off()"
   ]
  },
  {
   "cell_type": "markdown",
   "metadata": {},
   "source": [
    "Question 4:\n",
    "Create a class Greeting with a method greet() that can handle different numbers of arguments.\n",
    " If no argument is passed, it should print \"Hello!\".\n",
    " If one argument (a name) is passed, it should print \"Hello, !\".\n",
    " If two arguments (a name and a greeting) are passed, it should print the greeting with the \n",
    "name (e.g., \"Good morning, !\").\n",
    "Simulate method overloading using default arguments or variable-length arguments, and \n",
    "demonstrate the polymorphic behavior by calling greet() with different numbers of arguments.\n",
    "Expected Output:\n",
    " Hello!\n",
    " Hello, John!\n",
    " Good morning, John!"
   ]
  },
  {
   "cell_type": "code",
   "execution_count": 1,
   "metadata": {},
   "outputs": [
    {
     "name": "stdout",
     "output_type": "stream",
     "text": [
      "Hello\n",
      "Hello, John!\n",
      "Good morning, John!\n"
     ]
    }
   ],
   "source": [
    "#Question 4:\n",
    "class Greeting:\n",
    "  def __init__(self,name, greeting):\n",
    "    self.name = name\n",
    "    self.greeting = greeting\n",
    "  def greet(self):\n",
    "    print(\"Hello\")\n",
    "    print(f\"Hello, {self.name}!\")\n",
    "    print(f\"{self.greeting}, {self.name}!\")\n",
    "greeting = Greeting(\"John\", \"Good morning\")\n",
    "greeting.greet()\n"
   ]
  },
  {
   "cell_type": "markdown",
   "metadata": {},
   "source": [
    "Question 5:\n",
    "Create a class CarRental to manage the rental of cars.\n",
    "The class should have private attributes for the car's name, price per day, and the number of \n",
    "rental days.\n",
    "1- Create a method to calculate the total rental cost and a method to set the rental days.\n",
    "2- Use getter and setter methods for modifying and accessing the car's information.\n",
    "Demonstrate encapsulation by creating an object of CarRental and calculating the total rental cost.\n",
    "Expected Output:\n",
    ". Car Name: Toyota Camry\n",
    ". Price Per Day: $50\n",
    ". Rental Days: 5\n",
    ". Total Rental Cost: $250"
   ]
  },
  {
   "cell_type": "code",
   "execution_count": 1,
   "metadata": {},
   "outputs": [
    {
     "name": "stdout",
     "output_type": "stream",
     "text": [
      "Car Name: Toyota Camry\n",
      "Price Per Day: $50\n",
      "Rental Days: 5\n",
      "Total Rental Cost: $250\n"
     ]
    }
   ],
   "source": [
    "class CarRental:\n",
    "    def __init__(self, car_name, price_per_day):\n",
    "        # Private attributes\n",
    "        self.__car_name = car_name\n",
    "        self.__price_per_day = price_per_day\n",
    "        self.__rental_days = 0  # Default to 0\n",
    "\n",
    "    # Getter methods\n",
    "    def get_car_name(self):\n",
    "        return self.__car_name\n",
    "\n",
    "    def get_price_per_day(self):\n",
    "        return self.__price_per_day\n",
    "\n",
    "    def get_rental_days(self):\n",
    "        return self.__rental_days\n",
    "\n",
    "    # Setter methods\n",
    "    def set_car_name(self, car_name):\n",
    "        self.__car_name = car_name\n",
    "\n",
    "    def set_price_per_day(self, price_per_day):\n",
    "        self.__price_per_day = price_per_day\n",
    "\n",
    "    def set_rental_days(self, rental_days):\n",
    "        if rental_days > 0:  # Ensure rental days are positive\n",
    "            self.__rental_days = rental_days\n",
    "        else:\n",
    "            print(\"Rental days must be a positive number.\")\n",
    "\n",
    "    # Method to calculate total rental cost\n",
    "    def calculate_total_cost(self):\n",
    "        return self.__price_per_day * self.__rental_days\n",
    "\n",
    "    # Method to display car rental details\n",
    "    def display_rental_details(self):\n",
    "        print(f\"Car Name: {self.__car_name}\")\n",
    "        print(f\"Price Per Day: ${self.__price_per_day}\")\n",
    "        print(f\"Rental Days: {self.__rental_days}\")\n",
    "        print(f\"Total Rental Cost: ${self.calculate_total_cost()}\")\n",
    "\n",
    "\n",
    "# Demonstration\n",
    "if __name__ == \"__main__\":\n",
    "    # Create an object of CarRental\n",
    "    rental = CarRental(\"Toyota Camry\", 50)\n",
    "\n",
    "    # Set rental days\n",
    "    rental.set_rental_days(5)\n",
    "\n",
    "    # Display rental details\n",
    "    rental.display_rental_details()"
   ]
  }
 ],
 "metadata": {
  "kernelspec": {
   "display_name": "Python 3",
   "language": "python",
   "name": "python3"
  },
  "language_info": {
   "codemirror_mode": {
    "name": "ipython",
    "version": 3
   },
   "file_extension": ".py",
   "mimetype": "text/x-python",
   "name": "python",
   "nbconvert_exporter": "python",
   "pygments_lexer": "ipython3",
   "version": "3.11.5"
  }
 },
 "nbformat": 4,
 "nbformat_minor": 2
}
